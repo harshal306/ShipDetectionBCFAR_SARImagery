{
 "cells": [
  {
   "cell_type": "markdown",
   "metadata": {},
   "source": [
    "# Importing Modules"
   ]
  },
  {
   "cell_type": "code",
   "execution_count": 1,
   "metadata": {},
   "outputs": [
    {
     "name": "stdout",
     "output_type": "stream",
     "text": [
      "importing Jupyter notebook from BilateralCFAR_v2.ipynb\n",
      "importing Jupyter notebook from GeoProcess.ipynb\n"
     ]
    }
   ],
   "source": [
    "import import_ipynb\n",
    "import BilateralCFAR_v2 as bcfarv2\n",
    "import GeoProcess as gp\n",
    "import numpy as np\n",
    "#import PreProcess_LM as lm\n",
    "\n",
    "DATA_PATH = '/media/prsd/New Volume/Dissertation/'"
   ]
  },
  {
   "cell_type": "code",
   "execution_count": null,
   "metadata": {},
   "outputs": [],
   "source": [
    "# terrain_corr_product = lm.import_product('Dataset_963A/terrain_corr_subset_of_S1A_IW_GRDH_1SDV_20200825T010320_20200825T010345_034056_03F420_963A_TC.tif')\n",
    "# amp_vh,amp_vv = lm.bands(terrain_corr_product)\n",
    "# lm_mask_ = lm.LandMasking(terrain_corr_product,amp_vh,DATA_PATH)"
   ]
  },
  {
   "cell_type": "code",
   "execution_count": 2,
   "metadata": {},
   "outputs": [
    {
     "name": "stdout",
     "output_type": "stream",
     "text": [
      "10201 10596\n"
     ]
    }
   ],
   "source": [
    "#Computing rows and columns\n",
    "band_data_arr = gp.readGeoTiff(DATA_PATH+'Dataset_963A/BufferedLandmaksedfullImage.tif')[2,:,:]\n",
    "#subset_img = gp.readGeoTiff('Dataset_963A/CFARResults/meanfiltered_img.tif')\n",
    "rows,col = band_data_arr.shape\n",
    "print(rows,col)\n",
    "#gp.visualizeImg(band_data_arr)\n",
    "#gp.save_img2Geotiff(subset_img,DATA_PATH+'Results/BilateralCFAR/Input.tif')"
   ]
  },
  {
   "cell_type": "code",
   "execution_count": null,
   "metadata": {},
   "outputs": [],
   "source": [
    "# #subset_img = (gp.subsetImg(band_data_arr,2000,4500)) #single ship\n",
    "# # subset_img = gp.subsetImg(band_data_arr,4950,8700) #multiple ship.\n",
    "\n",
    "# subset_img = band_data_arr[2518:2875,3882:4282]\n",
    "# # # # #subset_img = (ir.adjustImg(np.array(subset_img)))\n",
    "# print(subset_img.shape)\n",
    "# #gp.visualizeImg(subset_img)\n",
    "# gp.save_img2Geotiff(subset_img,DATA_PATH+'Results/BilateralCFAR/Input.tif')"
   ]
  },
  {
   "cell_type": "code",
   "execution_count": 3,
   "metadata": {},
   "outputs": [],
   "source": [
    "#arr = np.array(np.arange(36))\n",
    "#arr = arr.reshape(6,6)\n",
    "backgroundWindow_size = 88\n",
    "guardWindow_size = 52\n",
    "targetWindow_size = 80\n",
    "pfa = 1e-4"
   ]
  },
  {
   "cell_type": "code",
   "execution_count": 4,
   "metadata": {},
   "outputs": [
    {
     "name": "stderr",
     "output_type": "stream",
     "text": [
      "  0%|          | 6/10201 [00:00<02:57, 57.29it/s]"
     ]
    },
    {
     "name": "stdout",
     "output_type": "stream",
     "text": [
      "CFAR Version 2\n",
      "Kernel Ready.\n",
      "Computing DVi and Threshold..\n"
     ]
    },
    {
     "name": "stderr",
     "output_type": "stream",
     "text": [
      "100%|██████████| 10201/10201 [10:14<00:00, 16.60it/s] \n",
      "  0%|          | 6/10201 [00:00<02:51, 59.30it/s]"
     ]
    },
    {
     "name": "stdout",
     "output_type": "stream",
     "text": [
      "Process completed, DV image and Threshold Image succesfully Computed.\n",
      "\n"
     ]
    },
    {
     "name": "stderr",
     "output_type": "stream",
     "text": [
      "100%|██████████| 10201/10201 [03:19<00:00, 51.19it/s]\n",
      "100%|██████████| 10201/10201 [01:07<00:00, 152.02it/s]"
     ]
    },
    {
     "name": "stdout",
     "output_type": "stream",
     "text": [
      "Binary Image of Ships is Succesfully Generated.\n",
      "\n"
     ]
    },
    {
     "name": "stderr",
     "output_type": "stream",
     "text": [
      "\n"
     ]
    }
   ],
   "source": [
    "print(\"CFAR Version 2\")\n",
    "bilateralcfar = bcfarv2.BilateralCFAR_v2(band_data_arr,targetWindow_size,guardWindow_size,backgroundWindow_size,pfa,1)\n",
    "finalimg,x_combined, x_spatial,threshold_img = bilateralcfar.shipDetection()"
   ]
  },
  {
   "cell_type": "code",
   "execution_count": 5,
   "metadata": {},
   "outputs": [
    {
     "name": "stdout",
     "output_type": "stream",
     "text": [
      "Image Saved Succesfully.\n"
     ]
    },
    {
     "data": {
      "image/png": "[encoded data removed]",
      "text/plain": [
       "<Figure size 432x288 with 1 Axes>"
      ]
     },
     "metadata": {
      "needs_background": "light"
     },
     "output_type": "display_data"
    }
   ],
   "source": [
    "gp.visualizeBinaryImg(threshold_img)\n",
    "gp.save_img2Geotiff(threshold_img,DATA_PATH+'Results/BilateralCFAR/Output_ThresholdbilateralCFAR'+str(backgroundWindow_size)+str(guardWindow_size)+str(targetWindow_size)+'.tif')"
   ]
  },
  {
   "cell_type": "code",
   "execution_count": 6,
   "metadata": {},
   "outputs": [
    {
     "name": "stdout",
     "output_type": "stream",
     "text": [
      "Image Saved Succesfully.\n"
     ]
    },
    {
     "data": {
      "image/png": "[encoded data removed]",
      "text/plain": [
       "<Figure size 432x288 with 1 Axes>"
      ]
     },
     "metadata": {
      "needs_background": "light"
     },
     "output_type": "display_data"
    }
   ],
   "source": [
    "gp.visualizeBinaryImg(finalimg)\n",
    "gp.save_img2Geotiff(finalimg,DATA_PATH+'Results/BilateralCFAR/Output_FInalImagebilateralCFAR'+str(backgroundWindow_size)+str(guardWindow_size)+str(targetWindow_size)+'.tif')"
   ]
  },
  {
   "cell_type": "code",
   "execution_count": 7,
   "metadata": {},
   "outputs": [
    {
     "name": "stdout",
     "output_type": "stream",
     "text": [
      "Image Saved Succesfully.\n"
     ]
    },
    {
     "data": {
      "image/png": "[encoded data removed]",
      "text/plain": [
       "<Figure size 432x288 with 1 Axes>"
      ]
     },
     "metadata": {
      "needs_background": "light"
     },
     "output_type": "display_data"
    }
   ],
   "source": [
    "gp.visualizeBinaryImg(x_combined)\n",
    "gp.save_img2Geotiff(x_combined,DATA_PATH+'Results/BilateralCFAR/Output_XCOMBINEDbilateralCFAR'+str(backgroundWindow_size)+str(guardWindow_size)+str(targetWindow_size)+'.tif')"
   ]
  },
  {
   "cell_type": "code",
   "execution_count": 8,
   "metadata": {},
   "outputs": [
    {
     "name": "stdout",
     "output_type": "stream",
     "text": [
      "Image Saved Succesfully.\n"
     ]
    },
    {
     "data": {
      "image/png": "[encoded data removed]",
      "text/plain": [
       "<Figure size 432x288 with 1 Axes>"
      ]
     },
     "metadata": {
      "needs_background": "light"
     },
     "output_type": "display_data"
    }
   ],
   "source": [
    "gp.visualizeBinaryImg(x_spatial)\n",
    "gp.save_img2Geotiff(x_spatial,DATA_PATH+'Results/BilateralCFAR/Output_XSPATIALbilateralCFAR'+str(backgroundWindow_size)+str(guardWindow_size)+str(targetWindow_size)+'.tif')"
   ]
  },
  {
   "cell_type": "code",
   "execution_count": null,
   "metadata": {},
   "outputs": [],
   "source": []
  }
 ],
 "metadata": {
  "kernelspec": {
   "display_name": "Python 3",
   "language": "python",
   "name": "python3"
  },
  "language_info": {
   "codemirror_mode": {
    "name": "ipython",
    "version": 3
   },
   "file_extension": ".py",
   "mimetype": "text/x-python",
   "name": "python",
   "nbconvert_exporter": "python",
   "pygments_lexer": "ipython3",
   "version": "3.8.5"
  }
 },
 "nbformat": 4,
 "nbformat_minor": 4
}
