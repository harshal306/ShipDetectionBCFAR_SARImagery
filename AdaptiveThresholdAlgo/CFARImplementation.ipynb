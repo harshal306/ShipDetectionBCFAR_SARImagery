{
 "cells": [
  {
   "cell_type": "markdown",
   "metadata": {},
   "source": [
    "# Importing Modules"
   ]
  },
  {
   "cell_type": "code",
   "execution_count": 1,
   "metadata": {},
   "outputs": [
    {
     "name": "stdout",
     "output_type": "stream",
     "text": [
      "importing Jupyter notebook from CFAR.ipynb\n",
      "importing Jupyter notebook from CFAR_v2.ipynb\n",
      "importing Jupyter notebook from GeoProcess.ipynb\n",
      "importing Jupyter notebook from imageResizing.ipynb\n"
     ]
    }
   ],
   "source": [
    "import import_ipynb\n",
    "import CFAR as cfar\n",
    "import CFAR_v2 as cfarv2\n",
    "import GeoProcess as gp\n",
    "import numpy as np\n",
    "import imageResizing as ir\n",
    "\n",
    "DATA_PATH = 'Dataset_963A/'"
   ]
  },
  {
   "cell_type": "code",
   "execution_count": 2,
   "metadata": {},
   "outputs": [],
   "source": [
    "#Computing rows and columns\n",
    "band_data_arr = gp.readGeoTiff(DATA_PATH+'LandMasked_Amplitude_VV.tif')\n",
    "#subset_img = gp.readGeoTiff('Dataset_963A/CFARResults/meanfiltered_img.tif')\n",
    "rows,col = band_data_arr.shape\n",
    "#print(rows,col)\n",
    "#gp.visualizeImg(band_data_arr)"
   ]
  },
  {
   "cell_type": "code",
   "execution_count": 3,
   "metadata": {},
   "outputs": [
    {
     "name": "stdout",
     "output_type": "stream",
     "text": [
      "(35, 35)\n",
      "Image Saved Succesfully.\n"
     ]
    },
    {
     "data": {
      "image/png": "[encoded data removed]",
      "text/plain": [
       "<Figure size 432x288 with 1 Axes>"
      ]
     },
     "metadata": {
      "needs_background": "light"
     },
     "output_type": "display_data"
    }
   ],
   "source": [
    "#subset_img = (gp.subsetImg(band_data_arr,4500,5700),5) #single ship\n",
    "#subset_img = gp.subsetImg(band_data_arr,4950,5700) #multiple ship.\n",
    "\n",
    "subset_img = band_data_arr[5853:5888,4594:4621]\n",
    "subset_img = (ir.adjustImg(np.array(subset_img)))\n",
    "print(subset_img.shape)\n",
    "gp.visualizeImg(subset_img)\n",
    "gp.save_img2Geotiff(subset_img,DATA_PATH+'CFARResults/Input.tif')"
   ]
  },
  {
   "cell_type": "code",
   "execution_count": 4,
   "metadata": {},
   "outputs": [],
   "source": [
    "#arr = np.array(np.arange(36))\n",
    "#arr = arr.reshape(6,6)\n",
    "backgroundWindow_size = 7\n",
    "guardWindow_size = 5\n",
    "targetWindow_size = 3\n",
    "kernel = 3\n",
    "pfa = 0.99"
   ]
  },
  {
   "cell_type": "code",
   "execution_count": 5,
   "metadata": {},
   "outputs": [
    {
     "name": "stdout",
     "output_type": "stream",
     "text": [
      "CFAR Version 2\n",
      "Kernel Ready.\n",
      "Computing P...\n"
     ]
    },
    {
     "data": {
      "application/vnd.jupyter.widget-view+json": {
       "model_id": "31430d78cd2f4cbe9bbf47e29e22cbcc",
       "version_major": 2,
       "version_minor": 0
      },
      "text/plain": [
       "HBox(children=(HTML(value=''), FloatProgress(value=0.0, max=35.0), HTML(value='')))"
      ]
     },
     "metadata": {},
     "output_type": "display_data"
    },
    {
     "name": "stdout",
     "output_type": "stream",
     "text": [
      "\n",
      "Process Completed, P image succesfully computed.\n",
      "\n",
      "Computing DVi..\n"
     ]
    },
    {
     "data": {
      "application/vnd.jupyter.widget-view+json": {
       "model_id": "04f19ad5cea241cc85a81e219858c479",
       "version_major": 2,
       "version_minor": 0
      },
      "text/plain": [
       "HBox(children=(HTML(value=''), FloatProgress(value=0.0, max=35.0), HTML(value='')))"
      ]
     },
     "metadata": {},
     "output_type": "display_data"
    },
    {
     "name": "stdout",
     "output_type": "stream",
     "text": [
      "\n",
      "Process completed, DV image succesfully Computed.\n",
      "\n",
      "Binary Image of Ships is Succesfully Generated.\n",
      "\n"
     ]
    },
    {
     "name": "stderr",
     "output_type": "stream",
     "text": [
      "CFAR_v2.ipynb:124: RuntimeWarning: invalid value encountered in double_scalars\n",
      "  \"        for i in tqdm(range(self.img.shape[0])):\\n\",\n"
     ]
    }
   ],
   "source": [
    "print(\"CFAR Version 2\")\n",
    "cfar_version2 = cfarv2.CFAR_v2(subset_img,targetWindow_size,guardWindow_size,backgroundWindow_size,pfa)\n",
    "finalImg_version2, DV_img,T_img = cfar_version2.shipDetection()\n",
    "\n",
    "# print(\"CFAR version 1\")\n",
    "# cfar_filter = cfar.CFAR(subset_img,backgroundWindow_size,guardWindow_size,targetWindow_size,pfa,kernel)\n",
    "# finalImg = cfar_filter.Shipdetection()"
   ]
  },
  {
   "cell_type": "code",
   "execution_count": 6,
   "metadata": {},
   "outputs": [
    {
     "name": "stdout",
     "output_type": "stream",
     "text": [
      "Image Saved Succesfully.\n"
     ]
    },
    {
     "data": {
      "image/png": "[encoded data removed]",
      "text/plain": [
       "<Figure size 432x288 with 1 Axes>"
      ]
     },
     "metadata": {
      "needs_background": "light"
     },
     "output_type": "display_data"
    }
   ],
   "source": [
    "gp.visualizeBinaryImg(DV_img)\n",
    "gp.save_img2Geotiff(DV_img,'Dataset_963A/CFARResults/Output_DVCFARversion2'+str(backgroundWindow_size)+str(guardWindow_size)+str(targetWindow_size)+'.tif')"
   ]
  },
  {
   "cell_type": "code",
   "execution_count": 7,
   "metadata": {},
   "outputs": [
    {
     "name": "stdout",
     "output_type": "stream",
     "text": [
      "Image Saved Succesfully.\n"
     ]
    },
    {
     "data": {
      "image/png": "[encoded data removed]",
      "text/plain": [
       "<Figure size 432x288 with 1 Axes>"
      ]
     },
     "metadata": {
      "needs_background": "light"
     },
     "output_type": "display_data"
    }
   ],
   "source": [
    "gp.visualizeBinaryImg(finalImg_version2)\n",
    "gp.save_img2Geotiff(finalImg_version2,'Dataset_963A/CFARResults/Output_SHIPCFARversion2'+str(backgroundWindow_size)+str(guardWindow_size)+str(targetWindow_size)+'.tif')"
   ]
  },
  {
   "cell_type": "code",
   "execution_count": 8,
   "metadata": {},
   "outputs": [
    {
     "name": "stdout",
     "output_type": "stream",
     "text": [
      "Image Saved Succesfully.\n"
     ]
    },
    {
     "data": {
      "image/png": "[encoded data removed]",
      "text/plain": [
       "<Figure size 432x288 with 1 Axes>"
      ]
     },
     "metadata": {
      "needs_background": "light"
     },
     "output_type": "display_data"
    }
   ],
   "source": [
    "gp.visualizeBinaryImg(T_img)\n",
    "gp.save_img2Geotiff(T_img,'Dataset_963A/CFARResults/Output_TCFARversion2'+str(backgroundWindow_size)+str(guardWindow_size)+str(targetWindow_size)+'.tif')"
   ]
  },
  {
   "cell_type": "code",
   "execution_count": 9,
   "metadata": {},
   "outputs": [],
   "source": [
    "# gp.visualizeBinaryImg(finalImg)\n",
    "# gp.save_img2Geotiff(finalImg,'Dataset_963A/CFARResults/Output_'+str(backgroundWindow_size)+str(guardWindow_size)+str(targetWindow_size)+'.tif')"
   ]
  },
  {
   "cell_type": "code",
   "execution_count": null,
   "metadata": {},
   "outputs": [],
   "source": []
  }
 ],
 "metadata": {
  "kernelspec": {
   "display_name": "Python 3",
   "language": "python",
   "name": "python3"
  },
  "language_info": {
   "codemirror_mode": {
    "name": "ipython",
    "version": 3
   },
   "file_extension": ".py",
   "mimetype": "text/x-python",
   "name": "python",
   "nbconvert_exporter": "python",
   "pygments_lexer": "ipython3",
   "version": "3.6.9"
  }
 },
 "nbformat": 4,
 "nbformat_minor": 4
}
