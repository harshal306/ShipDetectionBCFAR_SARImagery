{
 "cells": [
  {
   "cell_type": "markdown",
   "metadata": {},
   "source": [
    "# Importing Modules"
   ]
  },
  {
   "cell_type": "code",
   "execution_count": null,
   "metadata": {},
   "outputs": [],
   "source": [
    "import numpy as np\n",
    "import matplotlib.pyplot as plt\n",
    "from PIL import Image\n",
    "from IPython.display import display\n",
    "import math\n",
    "from osgeo import gdal,gdal_array"
   ]
  },
  {
   "cell_type": "code",
   "execution_count": null,
   "metadata": {},
   "outputs": [],
   "source": [
    "# Importing Product and getting data from the band\n",
    "product = gdal_array.LoadFile('Dataset_963A/LandMasked_Amplitude_VV.tif')\n",
    "product"
   ]
  },
  {
   "cell_type": "code",
   "execution_count": null,
   "metadata": {},
   "outputs": [],
   "source": [
    "#Computing rows and columns\n",
    "band_data_arr = np.array(product)\n",
    "rows,col = band_data_arr.shape"
   ]
  },
  {
   "cell_type": "code",
   "execution_count": null,
   "metadata": {},
   "outputs": [],
   "source": [
    "#Comuting subset of the image for demo processing\n",
    "#Currently using 1000,1000 image\n",
    "subset_min_size = 5000\n",
    "subset_max_size = 6000\n",
    "subset_data = band_data_arr[subset_min_size:subset_max_size,subset_min_size:subset_max_size]\n",
    "subset_data = np.array(subset_data)\n",
    "plt.imshow(subset_data,cmap='gray',vmin=0,vmax=255)\n",
    "plt.imsave('Input_Image.tiff',subset_data,cmap='gray')\n",
    "#print(subset_data.shape)"
   ]
  },
  {
   "cell_type": "code",
   "execution_count": null,
   "metadata": {},
   "outputs": [],
   "source": [
    "# Getting sliding window\n",
    "#img is the image and m is the size of window (eg 3x3, 5x5)\n",
    "def sliding_window(img,m):\n",
    "    \n",
    "    if m == 3:\n",
    "         #make the loop for 3 and 5.\n",
    "        s = img.shape[0]\n",
    "        for i in range(1):\n",
    "            z = np.zeros([s,1])\n",
    "            img = np.concatenate((z,img),axis=1)\n",
    "            \n",
    "            z = np.zeros([s,1])\n",
    "            img = np.concatenate((img,z),axis=1)\n",
    "            \n",
    "            s = s+2\n",
    "            \n",
    "            z = np.zeros([1,s])\n",
    "            img = np.concatenate((img,z),axis=0)\n",
    "            \n",
    "            z = np.zeros([1,s])\n",
    "            img = np.concatenate((z,img),axis=0)\n",
    "        \n",
    "    elif m==5:\n",
    "        \n",
    "        s = img.shape[0]\n",
    "        for i in range(1):\n",
    "            z = np.zeros([s,1])\n",
    "            img = np.concatenate((z,img),axis=1)\n",
    "\n",
    "            z = np.zeros([s,1])\n",
    "            img = np.concatenate((img,z),axis=1)\n",
    "            \n",
    "            s = s+2\n",
    "\n",
    "            z = np.zeros([1,s])\n",
    "            img = np.concatenate((img,z),axis=0)\n",
    "\n",
    "            z = np.zeros([1,s])\n",
    "            img = np.concatenate((z,img),axis=0)\n",
    "\n",
    "            z = np.zeros([s,1])\n",
    "            img = np.concatenate((z,img),axis=1)\n",
    "\n",
    "            z = np.zeros([s,1])\n",
    "            img = np.concatenate((img,z),axis=1)\n",
    "            \n",
    "            s = s+2\n",
    "\n",
    "            z = np.zeros([1,s])\n",
    "            img = np.concatenate((img,z),axis=0)\n",
    "\n",
    "            z = np.zeros([1,s])\n",
    "            img = np.concatenate((z,img),axis=0)\n",
    "            \n",
    "    \n",
    "    window= []\n",
    "    stepSize = 1\n",
    "    w_width = m\n",
    "    w_height = w_width\n",
    "    for x in range(0,  img.shape[1] - w_width +1, stepSize):\n",
    "        for y in range(0, img.shape[0] - w_height +1, stepSize):\n",
    "            window.append(img[x:x + w_width, y:y + w_height])\n",
    "    \n",
    "    window = np.array(window)\n",
    "    return window\n",
    "\n",
    "\n",
    "#getting center_pixel for every sliding window\n",
    "def get_center_pixel(window):\n",
    "    x_i = int(len(window)/2)\n",
    "    return window[x_i][x_i]\n",
    "\n",
    "#getting mean of sliding window\n",
    "def getMean(window):\n",
    "    return window.mean()\n",
    "\n",
    "#getting stdev of sliding window\n",
    "def getStdev(window):\n",
    "    return window.std()  \n",
    "\n",
    "#computing threshold for the sliding window\n",
    "def compThreshold(window):\n",
    "    center_pixel = get_center_pixel(window)\n",
    "    win_mean = getMean(window)\n",
    "    win_stdev = getStdev(window)\n",
    "    return ((center_pixel-win_mean)/win_stdev)\n",
    "\n",
    "#plotting binary image for the specific threshold.\n",
    "#here img_d always takes ndarray.\n",
    "def shipDetection_binaryImg(img_d,threshold):\n",
    "    for i in range(len(img_d)):\n",
    "        if img_d[i] >= threshold:\n",
    "            img_d[i] = 1      #Valid ship\n",
    "        else:\n",
    "            img_d[i] = 0      #not a ship\n",
    "        \n",
    "    img_size = int(math.sqrt(len(img_d)))\n",
    "    img_d_img = img_d.reshape(img_size,img_size)\n",
    "    plt.imsave('Output_3x3.tiff',img_d_img,cmap='gray')\n",
    "    img = Image.fromarray(np.uint8(plt.cm.gist_earth(img_d_img)*255))\n",
    "    display(img)"
   ]
  },
  {
   "cell_type": "code",
   "execution_count": null,
   "metadata": {},
   "outputs": [],
   "source": [
    "#arr = np.array(np.arange(36))\n",
    "#arr = arr.reshape(6,6)\n",
    "kernel_size = 3\n",
    "win = sliding_window(subset_data,kernel_size)"
   ]
  },
  {
   "cell_type": "code",
   "execution_count": null,
   "metadata": {},
   "outputs": [],
   "source": [
    "win_thresh = []\n",
    "for w in win:\n",
    "    win_thresh.append((compThreshold(w)))\n",
    "\n",
    "win_thresh = np.array((win_thresh))\n",
    "avg_thre = (min(win_thresh) + (max(win_thresh)))/2\n",
    "print(avg_thre,max(win_thresh),min(win_thresh))"
   ]
  },
  {
   "cell_type": "code",
   "execution_count": null,
   "metadata": {},
   "outputs": [],
   "source": [
    "shipDetection_binaryImg(win_thresh,avg_thre)"
   ]
  },
  {
   "cell_type": "code",
   "execution_count": null,
   "metadata": {},
   "outputs": [],
   "source": []
  }
 ],
 "metadata": {
  "kernelspec": {
   "display_name": "Python 3",
   "language": "python",
   "name": "python3"
  },
  "language_info": {
   "codemirror_mode": {
    "name": "ipython",
    "version": 3
   },
   "file_extension": ".py",
   "mimetype": "text/x-python",
   "name": "python",
   "nbconvert_exporter": "python",
   "pygments_lexer": "ipython3",
   "version": "3.6.9"
  }
 },
 "nbformat": 4,
 "nbformat_minor": 4
}
