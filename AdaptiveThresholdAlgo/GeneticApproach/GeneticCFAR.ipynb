{
 "cells": [
  {
   "cell_type": "code",
   "execution_count": 1,
   "metadata": {},
   "outputs": [
    {
     "name": "stdout",
     "output_type": "stream",
     "text": [
      "importing Jupyter notebook from GeneticAlgorithm.ipynb\n",
      "importing Jupyter notebook from CFAR_v2.ipynb\n",
      "importing Jupyter notebook from GeoProcess.ipynb\n"
     ]
    }
   ],
   "source": [
    "import numpy as np\n",
    "import import_ipynb\n",
    "import GeneticAlgorithm as ga"
   ]
  },
  {
   "cell_type": "code",
   "execution_count": 2,
   "metadata": {},
   "outputs": [
    {
     "name": "stdout",
     "output_type": "stream",
     "text": [
      "Populating the Training set.\n"
     ]
    },
    {
     "data": {
      "application/vnd.jupyter.widget-view+json": {
       "model_id": "af7384f086654bcc86397405218e29c1",
       "version_major": 2,
       "version_minor": 0
      },
      "text/plain": [
       "HBox(children=(HTML(value=''), FloatProgress(value=0.0, max=500.0), HTML(value='')))"
      ]
     },
     "metadata": {},
     "output_type": "display_data"
    },
    {
     "name": "stdout",
     "output_type": "stream",
     "text": [
      "\n",
      "Kernel Ready.\n"
     ]
    },
    {
     "data": {
      "application/vnd.jupyter.widget-view+json": {
       "model_id": "90b0c2879b004cc8a7240875150d9009",
       "version_major": 2,
       "version_minor": 0
      },
      "text/plain": [
       "HBox(children=(HTML(value=''), FloatProgress(value=0.0, max=10.0), HTML(value='')))"
      ]
     },
     "metadata": {},
     "output_type": "display_data"
    },
    {
     "name": "stdout",
     "output_type": "stream",
     "text": [
      "Processing Generation:  0\n",
      "Optimised Value Obtained : 5\n",
      "\n",
      "Processing Generation:  1\n",
      "Optimised Value Obtained : 5\n",
      "\n",
      "Processing Generation:  2\n",
      "Optimised Value Obtained : 5\n",
      "\n",
      "Processing Generation:  3\n",
      "Optimised Value Obtained : 5\n",
      "\n",
      "Processing Generation:  4\n",
      "Optimised Value Obtained : 5\n",
      "\n",
      "Processing Generation:  5\n",
      "Optimised Value Obtained : 5\n",
      "\n",
      "Processing Generation:  6\n",
      "Optimised Value Obtained : 5\n",
      "\n",
      "Processing Generation:  7\n",
      "Optimised Value Obtained : 5\n",
      "\n",
      "Processing Generation:  8\n",
      "Optimised Value Obtained : 5\n",
      "\n",
      "Processing Generation:  9\n",
      "Optimised Value Obtained : 5\n",
      "\n",
      "\n",
      "Sucessfully found the best optimized results.\n",
      "The Optimized value obtained:  5\n",
      "The Optimized result is found at:  0.09326171875\n"
     ]
    },
    {
     "data": {
      "image/png": "[encoded data removed]",
      "text/plain": [
       "<Figure size 432x288 with 1 Axes>"
      ]
     },
     "metadata": {
      "needs_background": "light"
     },
     "output_type": "display_data"
    }
   ],
   "source": [
    "genetics = ga.GeneticAlgorithm(chromosome_length=13,\n",
    "                               population_size=500,\n",
    "                               no_of_iteration=10)\n",
    "genetics.executeGA()\n",
    "genetics.getResults(plot=True)"
   ]
  },
  {
   "cell_type": "code",
   "execution_count": null,
   "metadata": {},
   "outputs": [],
   "source": []
  },
  {
   "cell_type": "code",
   "execution_count": null,
   "metadata": {},
   "outputs": [],
   "source": []
  }
 ],
 "metadata": {
  "kernelspec": {
   "display_name": "Python 3",
   "language": "python",
   "name": "python3"
  },
  "language_info": {
   "codemirror_mode": {
    "name": "ipython",
    "version": 3
   },
   "file_extension": ".py",
   "mimetype": "text/x-python",
   "name": "python",
   "nbconvert_exporter": "python",
   "pygments_lexer": "ipython3",
   "version": "3.6.9"
  }
 },
 "nbformat": 4,
 "nbformat_minor": 4
}
