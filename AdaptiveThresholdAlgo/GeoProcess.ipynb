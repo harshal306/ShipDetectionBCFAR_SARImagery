{
 "cells": [
  {
   "cell_type": "markdown",
   "metadata": {},
   "source": [
    "# Importing Modules"
   ]
  },
  {
   "cell_type": "code",
   "execution_count": 1,
   "metadata": {},
   "outputs": [],
   "source": [
    "import numpy as np\n",
    "import matplotlib.pyplot as plt\n",
    "import math\n",
    "from osgeo import gdal,gdal_array,ogr\n",
    "\n",
    "DATA_PATH = 'Dataset_963A/'"
   ]
  },
  {
   "cell_type": "markdown",
   "metadata": {},
   "source": [
    "# Defining Methods"
   ]
  },
  {
   "cell_type": "code",
   "execution_count": 2,
   "metadata": {},
   "outputs": [],
   "source": [
    "def save_img2Geotiff(img,filename):\n",
    "    r,c = img.shape\n",
    "    pr_d = gdal.Open(DATA_PATH+'LandMasked_Amplitude_VV.tif')\n",
    "    driver = gdal.GetDriverByName(\"GTiff\")\n",
    "    outdata = driver.Create(filename, c, r, 1, gdal.GDT_Float32)\n",
    "    outdata.SetGeoTransform(pr_d.GetGeoTransform())##sets same geotransform as input\n",
    "    outdata.SetProjection(pr_d.GetProjection())##sets same projection as input\n",
    "    outdata.GetRasterBand(1).WriteArray(img)\n",
    "    print(\"Image Saved Succesfully.\")\n",
    "    \n",
    "def readGeoTiff(img):\n",
    "    # Importing Product and getting data from the band\n",
    "    product = gdal_array.LoadFile(img)\n",
    "    product = np.array(product)\n",
    "    return product\n",
    "\n",
    "def subsetImg(img,row,col):\n",
    "    #Comuting subset of the image for demo processing\n",
    "    subset_min_size = row\n",
    "    subset_max_size = col\n",
    "    size = subset_max_size - subset_min_size\n",
    "    subset_data = img[subset_min_size:subset_max_size,subset_min_size:subset_max_size]\n",
    "    subset_data = np.array(subset_data)\n",
    "    #plt.imsave('Input_Image.tiff',subset_data,cmap='gray')\n",
    "    #print(subset_data.shape)\n",
    "    \n",
    "    return subset_data\n",
    "   \n",
    "\n",
    "def visualizeImg(img):\n",
    "    plt.imshow(img,cmap='gray',vmax=255,vmin=0)\n",
    "\n",
    "def visualizeBinaryImg(img):\n",
    "    plt.imshow(img,cmap='gray')\n",
    "\n",
    "def getLatLong(img,i,j):\n",
    "    pr_d = gdal.Open(DATA_PATH+'LandMasked_Amplitude_VV.tif')\n",
    "    xoff, a, b, yoff, d, e = pr_d.GetGeoTransform()\n",
    "    \n",
    "    px = (a * i) + (b * j) + xoff\n",
    "    py = (d * i) + (e * j) + yoff \n",
    "    \n",
    "    return (px,py)"
   ]
  }
 ],
 "metadata": {
  "kernelspec": {
   "display_name": "Python 3",
   "language": "python",
   "name": "python3"
  },
  "language_info": {
   "codemirror_mode": {
    "name": "ipython",
    "version": 3
   },
   "file_extension": ".py",
   "mimetype": "text/x-python",
   "name": "python",
   "nbconvert_exporter": "python",
   "pygments_lexer": "ipython3",
   "version": "3.6.9"
  }
 },
 "nbformat": 4,
 "nbformat_minor": 4
}
