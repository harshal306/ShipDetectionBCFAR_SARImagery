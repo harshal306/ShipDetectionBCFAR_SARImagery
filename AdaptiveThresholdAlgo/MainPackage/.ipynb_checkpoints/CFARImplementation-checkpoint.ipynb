{
 "cells": [
  {
   "cell_type": "markdown",
   "metadata": {},
   "source": [
    "# Importing Modules"
   ]
  },
  {
   "cell_type": "code",
   "execution_count": 1,
   "metadata": {},
   "outputs": [
    {
     "name": "stdout",
     "output_type": "stream",
     "text": [
      "importing Jupyter notebook from CFAR_v2.ipynb\n",
      "importing Jupyter notebook from GeoProcess.ipynb\n"
     ]
    }
   ],
   "source": [
    "import import_ipynb\n",
    "import CFAR_v2 as cfarv2\n",
    "import GeoProcess as gp\n",
    "import numpy as np\n",
    "\n",
    "\n",
    "DATA_PATH = '/media/prsd/New Volume/Dissertation/Dataset_963A'\n",
    "OUT_PATH = '/media/prsd/New Volume/Dissertation/Results/StandardCFAR/Test'"
   ]
  },
  {
   "cell_type": "markdown",
   "metadata": {},
   "source": [
    "1. subset_img = (gp.subsetImg(band_data_arr,2000,4500)) 1200x1200\n",
    "2. subset_img = band_data_arr[2518:2875,3882:4282] 375x400"
   ]
  },
  {
   "cell_type": "code",
   "execution_count": 2,
   "metadata": {},
   "outputs": [],
   "source": [
    "backgroundWindow_size = 84\n",
    "guardWindow_size = 82\n",
    "targetWindow_size = 80\n",
    "pfa = 1e-4"
   ]
  },
  {
   "cell_type": "code",
   "execution_count": 3,
   "metadata": {},
   "outputs": [
    {
     "name": "stdout",
     "output_type": "stream",
     "text": [
      "Configuring Kernel... \n",
      "Performing land water Segmentation...\n",
      "Image Saved Succesfully.\n",
      "Starting LandMasking Algorithm...\n",
      "\n",
      "Using Raster File Geo Extent:  72.19144474113735 8.983152841195215e-05 0.0 19.307406138936972 0.0 -8.983152841195215e-05\n",
      "\n",
      "Creating Raster Mask from Raster data...\n",
      "Raster Mask successfully generated.\n",
      "Creating Land masked image...\n",
      "Land Masking Process compeleted.\n",
      "Channel used:  VH\n",
      "Segmented the Image successfully...\n",
      "Image Shape: row-10201 col-10596\n",
      "\n",
      "Target Window size:  80\n",
      "Guard Window Size:  82\n",
      "Background Window Size:  84\n",
      "Probability of false Alarm used:  0.0001\n",
      "Generation of Output at location:  /media/prsd/New Volume/Dissertation/Results/StandardCFAR/Test\n",
      "\n",
      "Kernel Ready.\n"
     ]
    }
   ],
   "source": [
    "cfar_version2 = cfarv2.CFAR_v2(DATA_PATH+\"/terrain_corr_subset_of_S1A_IW_GRDH_1SDV_20200825T010320_20200825T010345_034056_03F420_963A_TC.tif\",\n",
    "                               targetWindow_size,\n",
    "                               guardWindow_size,\n",
    "                               backgroundWindow_size,\n",
    "                               pfa,\n",
    "                               channel='VH',\n",
    "                               output_path=OUT_PATH,\n",
    "                               visuals=False,\n",
    "                               masked=False,\n",
    "                               doSave=True)"
   ]
  },
  {
   "cell_type": "code",
   "execution_count": 4,
   "metadata": {
    "scrolled": true
   },
   "outputs": [
    {
     "name": "stderr",
     "output_type": "stream",
     "text": [
      "  0%|          | 6/10201 [00:00<03:04, 55.39it/s]"
     ]
    },
    {
     "name": "stdout",
     "output_type": "stream",
     "text": [
      "Computing DVi Image from target window...\n"
     ]
    },
    {
     "name": "stderr",
     "output_type": "stream",
     "text": [
      "100%|██████████| 10201/10201 [03:56<00:00, 43.21it/s]\n",
      "  0%|          | 6/10201 [00:00<02:54, 58.58it/s]"
     ]
    },
    {
     "name": "stdout",
     "output_type": "stream",
     "text": [
      "Process completed, DV image succesfully Computed.\n",
      "\n",
      "Computing Threshold from background Window...\n"
     ]
    },
    {
     "name": "stderr",
     "output_type": "stream",
     "text": [
      "100%|██████████| 10201/10201 [02:59<00:00, 56.75it/s]\n",
      "  0%|          | 31/10201 [00:00<01:07, 151.17it/s]"
     ]
    },
    {
     "name": "stdout",
     "output_type": "stream",
     "text": [
      "Threshold Image Successfully computed.\n",
      "Generating Final Binary Image...\n"
     ]
    },
    {
     "name": "stderr",
     "output_type": "stream",
     "text": [
      "100%|██████████| 10201/10201 [01:06<00:00, 153.80it/s]\n"
     ]
    },
    {
     "name": "stdout",
     "output_type": "stream",
     "text": [
      "Binary Image of Ships is Succesfully Generated.\n",
      "\n",
      "Saving the Images...\n",
      "Image Saved Succesfully.\n",
      "Final Image Saved.\n",
      "Image Saved Succesfully.\n",
      "DV Image Saved.\n",
      "Image Saved Succesfully.\n",
      "Threshold Image Saved.\n"
     ]
    }
   ],
   "source": [
    "result = cfar_version2.shipDetection()"
   ]
  },
  {
   "cell_type": "code",
   "execution_count": null,
   "metadata": {},
   "outputs": [],
   "source": []
  }
 ],
 "metadata": {
  "kernelspec": {
   "display_name": "Python 3",
   "language": "python",
   "name": "python3"
  },
  "language_info": {
   "codemirror_mode": {
    "name": "ipython",
    "version": 3
   },
   "file_extension": ".py",
   "mimetype": "text/x-python",
   "name": "python",
   "nbconvert_exporter": "python",
   "pygments_lexer": "ipython3",
   "version": "3.8.5"
  }
 },
 "nbformat": 4,
 "nbformat_minor": 4
}
