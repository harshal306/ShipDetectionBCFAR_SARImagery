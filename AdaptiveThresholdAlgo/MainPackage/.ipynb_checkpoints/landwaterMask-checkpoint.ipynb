{
 "cells": [
  {
   "cell_type": "code",
   "execution_count": 1,
   "metadata": {},
   "outputs": [],
   "source": [
    "from osgeo import gdal,ogr\n",
    "from shapely.geometry import box\n",
    "from qgis.core import QgsRasterLayer\n",
    "from qgis.analysis import QgsRasterCalculatorEntry, QgsRasterCalculator\n",
    "\n",
    "# compute the bounding box of a gdal raster file\n",
    "def bounds_raster(path,output):\n",
    "    raster = gdal.Open(path) \n",
    "    ulx, xres, xskew, uly, yskew, yres  = raster.GetGeoTransform()\n",
    "    lrx = ulx + (raster.RasterXSize * xres) \n",
    "    lry = uly + (raster.RasterYSize * yres)\n",
    "    \n",
    "    data = box(lrx,lry,ulx,uly)\n",
    "    \n",
    "    \n",
    "    driver = ogr.GetDriverByName(\"ESRI Shapefile\")\n",
    "    data_source = driver.CreateDataSource(output+\"/TileBox.shp\")\n",
    "    layer = data_source.CreateLayer(\"result\",None, ogr.wkbPolygon)\n",
    "    layer.CreateField(ogr.FieldDefn('id', ogr.OFTInteger))\n",
    "    defn = layer.GetLayerDefn()\n",
    "\n",
    "    ## If there are multiple geometries, put the \"for\" loop here\n",
    "\n",
    "    # Create a new feature (attribute and geometry)\n",
    "    feat = ogr.Feature(defn)\n",
    "    feat.SetField('id', 123)\n",
    "\n",
    "    # Make a geometry, from Shapely object\n",
    "    geom = ogr.CreateGeometryFromWkb(data.wkb)\n",
    "    feat.SetGeometry(geom)\n",
    "\n",
    "    layer.CreateFeature(feat)\n",
    "    feat = geom = None  # destroy these\n",
    "\n",
    "    # Save and close everything\n",
    "    ds = layer = feat = geom = None\n",
    "\n",
    "def difference(file1,file2,output):\n",
    "    poly1 = ogr.Open(file1)\n",
    "    poly2 = ogr.Open(file2)\n",
    "    layer1 = poly1.GetLayer()\n",
    "    layer1.GetFeatureCount()\n",
    "    #1\n",
    "    # first feature\n",
    "    feature1 = layer1.GetFeature(0)\n",
    "    # geometry\n",
    "    geom1 = feature1.GetGeometryRef()\n",
    "    layer2 = poly2.GetLayer()\n",
    "    layer2.GetFeatureCount()\n",
    "    # first feature\n",
    "    feature2 = layer2.GetFeature(0)\n",
    "    # geometry\n",
    "    geom2 = feature2.GetGeometryRef()\n",
    "    # symmetric difference\n",
    "    simdiff = geom1.Difference(geom2)\n",
    "    # create a new shapefile\n",
    "    driver = ogr.GetDriverByName(\"ESRI Shapefile\")\n",
    "    data_source = driver.CreateDataSource(output+\"/Difference.shp\")\n",
    "    layer = data_source.CreateLayer(\"result\",None, ogr.wkbPolygon)\n",
    "    feature = ogr.Feature(layer.GetLayerDefn())\n",
    "    feature.SetGeometry(simdiff)\n",
    "    layer.CreateFeature(feature)\n",
    "    feature.Destroy()\n",
    "    data_source.Destroy()\n",
    "    \n",
    "    \n",
    "def rasterization(shpfile,extent, output):\n",
    "    # 1. Define pixel_size and NoData value of new raster\n",
    "    NoData_value = 0\n",
    "    x_res = 0.00095 # assuming these are the cell sizes\n",
    "    y_res = 0.00095 # change as appropriate\n",
    "    pixel_size = 1\n",
    "\n",
    "    # 2. Filenames for in- and output\n",
    "    _in = shpfile\n",
    "    _out = output\n",
    "\n",
    "    # 3. Open Shapefile\n",
    "    source_ds = ogr.Open(_in)\n",
    "    source_layer = source_ds.GetLayer()\n",
    "    \n",
    "    source_ds_extent = ogr.Open(extent)\n",
    "    source_layer_extent = source_ds_extent.GetLayer()\n",
    "    \n",
    "    x_min, x_max, y_min, y_max = source_layer_extent.GetExtent()\n",
    "    \n",
    "    #print(x_min, x_max, y_min, y_max)\n",
    "\n",
    "    # 4. Create Target - TIFF\n",
    "    cols = int( (x_max - x_min)/x_res )\n",
    "    rows = int( (y_max - y_min)/y_res )\n",
    "    #print(cols,rows)\n",
    "\n",
    "    _raster = gdal.GetDriverByName('GTiff').Create(_out, cols, rows, 1, gdal.GDT_Float32)\n",
    "    _raster.SetGeoTransform((x_min, x_res, 0, y_max, 0, -y_res))\n",
    "    _band = _raster.GetRasterBand(1)\n",
    "    _band.SetNoDataValue(NoData_value)\n",
    "\n",
    "    # 5. Rasterize why is the burn value 0... isn't that the same as the background?\n",
    "    gdal.RasterizeLayer(_raster, [1], source_layer, burn_values=[1])\n",
    "    \n",
    "def rasterCalculator(inputfile1, inputfile2, outputfile):\n",
    "    input_raster1 = QgsRasterLayer(inputfile1)      \n",
    "    input_raster2 = QgsRasterLayer(inputfile2)      \n",
    "    output_raster = outputfile\n",
    "    \n",
    "    enteries = []\n",
    "    \n",
    "    ras1 = QgsRasterCalculatorEntry()\n",
    "    ras1.ref = 'ras1@1'\n",
    "    ras1.raster= input_raster1\n",
    "    ras1.bandNumber = 1\n",
    "    enteries.append(ras1)\n",
    "    \n",
    "    ras2 = QgsRasterCalculatorEntry()\n",
    "    ras2.ref = 'ras2@1'\n",
    "    ras2.raster= input_raster2\n",
    "    ras2.bandNumber = 1\n",
    "    enteries.append(ras2)\n",
    "    \n",
    "    calc = QgsRasterCalculator('ras1@1 * ras2@1', output_raster,'GTiff',\n",
    "                              input_raster1.extent(), input_raster1.width(), input_raster1.height(), enteries)\n",
    "    calc.processCalculation()\n",
    "    \n",
    "    "
   ]
  },
  {
   "cell_type": "code",
   "execution_count": 2,
   "metadata": {},
   "outputs": [
    {
     "ename": "AttributeError",
     "evalue": "'NoneType' object has no attribute 'CreateField'",
     "output_type": "error",
     "traceback": [
      "\u001b[0;31m---------------------------------------------------------------------------\u001b[0m",
      "\u001b[0;31mAttributeError\u001b[0m                            Traceback (most recent call last)",
      "\u001b[0;32m<ipython-input-2-846d3ea86e16>\u001b[0m in \u001b[0;36m<module>\u001b[0;34m\u001b[0m\n\u001b[0;32m----> 1\u001b[0;31m \u001b[0mdata\u001b[0m \u001b[0;34m=\u001b[0m \u001b[0mbounds_raster\u001b[0m\u001b[0;34m(\u001b[0m\u001b[0;34m'/media/prsd/New Volume/Dissertation/Dataset_963A/terrain_corr_subset_of_S1A_IW_GRDH_1SDV_20200825T010320_20200825T010345_034056_03F420_963A_TC.tif'\u001b[0m\u001b[0;34m,\u001b[0m\u001b[0;34m'/media/prsd/New Volume/Dissertation/Dataset_963A/landMaskOutputs/'\u001b[0m\u001b[0;34m)\u001b[0m\u001b[0;34m\u001b[0m\u001b[0;34m\u001b[0m\u001b[0m\n\u001b[0m",
      "\u001b[0;32m<ipython-input-1-ed3a28b20681>\u001b[0m in \u001b[0;36mbounds_raster\u001b[0;34m(path, output)\u001b[0m\n\u001b[1;32m     17\u001b[0m     \u001b[0mdata_source\u001b[0m \u001b[0;34m=\u001b[0m \u001b[0mdriver\u001b[0m\u001b[0;34m.\u001b[0m\u001b[0mCreateDataSource\u001b[0m\u001b[0;34m(\u001b[0m\u001b[0moutput\u001b[0m\u001b[0;34m+\u001b[0m\u001b[0;34m\"/TileBox.shp\"\u001b[0m\u001b[0;34m)\u001b[0m\u001b[0;34m\u001b[0m\u001b[0;34m\u001b[0m\u001b[0m\n\u001b[1;32m     18\u001b[0m     \u001b[0mlayer\u001b[0m \u001b[0;34m=\u001b[0m \u001b[0mdata_source\u001b[0m\u001b[0;34m.\u001b[0m\u001b[0mCreateLayer\u001b[0m\u001b[0;34m(\u001b[0m\u001b[0;34m\"result\"\u001b[0m\u001b[0;34m,\u001b[0m\u001b[0;32mNone\u001b[0m\u001b[0;34m,\u001b[0m \u001b[0mogr\u001b[0m\u001b[0;34m.\u001b[0m\u001b[0mwkbPolygon\u001b[0m\u001b[0;34m)\u001b[0m\u001b[0;34m\u001b[0m\u001b[0;34m\u001b[0m\u001b[0m\n\u001b[0;32m---> 19\u001b[0;31m     \u001b[0mlayer\u001b[0m\u001b[0;34m.\u001b[0m\u001b[0mCreateField\u001b[0m\u001b[0;34m(\u001b[0m\u001b[0mogr\u001b[0m\u001b[0;34m.\u001b[0m\u001b[0mFieldDefn\u001b[0m\u001b[0;34m(\u001b[0m\u001b[0;34m'id'\u001b[0m\u001b[0;34m,\u001b[0m \u001b[0mogr\u001b[0m\u001b[0;34m.\u001b[0m\u001b[0mOFTInteger\u001b[0m\u001b[0;34m)\u001b[0m\u001b[0;34m)\u001b[0m\u001b[0;34m\u001b[0m\u001b[0;34m\u001b[0m\u001b[0m\n\u001b[0m\u001b[1;32m     20\u001b[0m     \u001b[0mdefn\u001b[0m \u001b[0;34m=\u001b[0m \u001b[0mlayer\u001b[0m\u001b[0;34m.\u001b[0m\u001b[0mGetLayerDefn\u001b[0m\u001b[0;34m(\u001b[0m\u001b[0;34m)\u001b[0m\u001b[0;34m\u001b[0m\u001b[0;34m\u001b[0m\u001b[0m\n\u001b[1;32m     21\u001b[0m \u001b[0;34m\u001b[0m\u001b[0m\n",
      "\u001b[0;31mAttributeError\u001b[0m: 'NoneType' object has no attribute 'CreateField'"
     ]
    }
   ],
   "source": [
    "data = bounds_raster('/media/prsd/New Volume/Dissertation/Dataset_963A/terrain_corr_subset_of_S1A_IW_GRDH_1SDV_20200825T010320_20200825T010345_034056_03F420_963A_TC.tif','/media/prsd/New Volume/Dissertation/Dataset_963A/landMaskOutputs/')"
   ]
  },
  {
   "cell_type": "code",
   "execution_count": 3,
   "metadata": {},
   "outputs": [],
   "source": [
    "diff = difference('/media/prsd/New Volume/Dissertation/Dataset_963A/landMaskOutputs/TileBox.shp','/media/prsd/New Volume/Dissertation/Dataset_963A/buffershapeFile/gshhgVectorData/gshhgVectorLayerBuffered.shp','/media/prsd/New Volume/Dissertation/Dataset_963A/landMaskOutputs/')"
   ]
  },
  {
   "cell_type": "code",
   "execution_count": 4,
   "metadata": {},
   "outputs": [],
   "source": [
    "raster = rasterization('/media/prsd/New Volume/Dissertation/Dataset_963A/landMaskOutputs/Difference.shp','/media/prsd/New Volume/Dissertation/Dataset_963A/landMaskOutputs/TileBox.shp'\n",
    ",'/media/prsd/New Volume/Dissertation/Dataset_963A/landMaskOutputs/rastered.tif')"
   ]
  },
  {
   "cell_type": "code",
   "execution_count": 5,
   "metadata": {},
   "outputs": [
    {
     "name": "stderr",
     "output_type": "stream",
     "text": [
      "<ipython-input-1-ed3a28b20681>:121: DeprecationWarning: QgsRasterCalculator constructor is deprecated\n",
      "  calc = QgsRasterCalculator('ras1@1 * ras2@1', output_raster,'GTiff',\n"
     ]
    }
   ],
   "source": [
    "cacl = rasterCalculator('/media/prsd/New Volume/Dissertation/Dataset_963A/terrain_corr_subset_of_S1A_IW_GRDH_1SDV_20200825T010320_20200825T010345_034056_03F420_963A_TC.tif',\n",
    "                       '/media/prsd/New Volume/Dissertation/Dataset_963A/landMaskOutputs/rastered.tif',\n",
    "                       '/media/prsd/New Volume/Dissertation/Dataset_963A/landMaskOutputs/maskedtest.tif')"
   ]
  },
  {
   "cell_type": "code",
   "execution_count": null,
   "metadata": {},
   "outputs": [],
   "source": []
  }
 ],
 "metadata": {
  "kernelspec": {
   "display_name": "Python 3",
   "language": "python",
   "name": "python3"
  },
  "language_info": {
   "codemirror_mode": {
    "name": "ipython",
    "version": 3
   },
   "file_extension": ".py",
   "mimetype": "text/x-python",
   "name": "python",
   "nbconvert_exporter": "python",
   "pygments_lexer": "ipython3",
   "version": "3.8.5"
  }
 },
 "nbformat": 4,
 "nbformat_minor": 4
}
