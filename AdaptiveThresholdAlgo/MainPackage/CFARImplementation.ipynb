{
 "cells": [
  {
   "cell_type": "markdown",
   "metadata": {},
   "source": [
    "# Importing Modules"
   ]
  },
  {
   "cell_type": "code",
   "execution_count": 1,
   "metadata": {},
   "outputs": [
    {
     "name": "stdout",
     "output_type": "stream",
     "text": [
      "importing Jupyter notebook from CFAR_v2.ipynb\n",
      "importing Jupyter notebook from GeoProcess.ipynb\n"
     ]
    }
   ],
   "source": [
    "import import_ipynb\n",
    "import CFAR_v2 as cfarv2\n",
    "import easygui"
   ]
  },
  {
   "cell_type": "code",
   "execution_count": 2,
   "metadata": {},
   "outputs": [],
   "source": [
    "DATA_PATH = easygui.fileopenbox()\n",
    "OUT_PATH = easygui.diropenbox()"
   ]
  },
  {
   "cell_type": "markdown",
   "metadata": {},
   "source": [
    "1. subset_img = (gp.subsetImg(band_data_arr,2000,4500)) 1200x1200\n",
    "2. subset_img = band_data_arr[2518:2875,3882:4282] 375x400"
   ]
  },
  {
   "cell_type": "code",
   "execution_count": 3,
   "metadata": {},
   "outputs": [],
   "source": [
    "backgroundWindow_size = 84\n",
    "guardWindow_size = 82\n",
    "targetWindow_size = 80\n",
    "pfa = 1e-4"
   ]
  },
  {
   "cell_type": "code",
   "execution_count": 4,
   "metadata": {},
   "outputs": [
    {
     "name": "stdout",
     "output_type": "stream",
     "text": [
      "Configuring Kernel... \n",
      "Performing land water Segmentation...\n",
      "Image Saved Succesfully.\n",
      "Starting LandMasking Algorithm...\n",
      "\n",
      "Using Raster File Geo Extent:  72.19144474113735 8.983152841195215e-05 0.0 19.307406138936972 0.0 -8.983152841195215e-05\n",
      "\n",
      "Creating Raster Mask from Raster data...\n",
      "Raster Mask successfully generated.\n",
      "Creating Land masked image...\n",
      "Land Masking Process compeleted.\n",
      "Channel used:  VH\n",
      "Segmented the Image successfully...\n",
      "Image Shape: row-10201 col-10596\n",
      "\n",
      "Target Window size:  80\n",
      "Guard Window Size:  82\n",
      "Background Window Size:  84\n",
      "Probability of false Alarm used:  0.0001\n",
      "Generation of Output at location:  /media/h_mittal/My Data 2/Dissertation/ASDUSI/processing_outputs/snappy/MainPackage\n",
      "\n",
      "Kernel Ready.\n"
     ]
    }
   ],
   "source": [
    "cfar_version2 = cfarv2.CFAR_v2(DATA_PATH,\n",
    "                               targetWindow_size,\n",
    "                               guardWindow_size,\n",
    "                               backgroundWindow_size,\n",
    "                               pfa,\n",
    "                               channel='VH',\n",
    "                               output_path=OUT_PATH,\n",
    "                               visuals=False,\n",
    "                               masked=False,\n",
    "                               doSave=True)"
   ]
  },
  {
   "cell_type": "code",
   "execution_count": null,
   "metadata": {
    "scrolled": true
   },
   "outputs": [],
   "source": [
    "result = cfar_version2.shipDetection()"
   ]
  },
  {
   "cell_type": "code",
   "execution_count": null,
   "metadata": {},
   "outputs": [],
   "source": []
  }
 ],
 "metadata": {
  "kernelspec": {
   "display_name": "Python 3",
   "language": "python",
   "name": "python3"
  },
  "language_info": {
   "codemirror_mode": {
    "name": "ipython",
    "version": 3
   },
   "file_extension": ".py",
   "mimetype": "text/x-python",
   "name": "python",
   "nbconvert_exporter": "python",
   "pygments_lexer": "ipython3",
   "version": "3.6.9"
  }
 },
 "nbformat": 4,
 "nbformat_minor": 4
}
