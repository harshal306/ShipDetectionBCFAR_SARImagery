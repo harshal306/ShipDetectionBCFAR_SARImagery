{
 "cells": [
  {
   "cell_type": "code",
   "execution_count": 1,
   "metadata": {},
   "outputs": [],
   "source": [
    "import numpy as np\n",
    "from osgeo import gdal,gdal_array\n",
    "import matplotlib.pyplot as plt\n",
    "from PIL import Image"
   ]
  },
  {
   "cell_type": "code",
   "execution_count": 32,
   "metadata": {},
   "outputs": [],
   "source": [
    "def readGeoTiff(img):\n",
    "    # Importing Product and getting data from the band\n",
    "    product = gdal_array.LoadFile(img)\n",
    "    product = np.array(product)\n",
    "    return product\n",
    "\n",
    "def subsetImg(img,row,col):\n",
    "    #Comuting subset of the image for demo processing\n",
    "    subset_min_size = row\n",
    "    subset_max_size = col\n",
    "    size = subset_max_size - subset_min_size\n",
    "    subset_data = img[subset_min_size:subset_max_size,subset_min_size:subset_max_size]\n",
    "    subset_data = np.array(subset_data)\n",
    "    #plt.imsave('Input_Image.tiff',subset_data,cmap='gray')\n",
    "    #print(subset_data.shape)\n",
    "    \n",
    "    return subset_data\n",
    "\n",
    "def visualizeImg(img):\n",
    "    plt.imshow(img,cmap='gray')"
   ]
  },
  {
   "cell_type": "code",
   "execution_count": 152,
   "metadata": {},
   "outputs": [],
   "source": [
    "#data = readGeoTiff('Dataset_963A/ShipDetectedOutputsImg/Output_C510.tif')\n",
    "#visualizeImg(data)\n",
    "#subset_xmin_size = 1736\n",
    "#subset_xmax_size = 1770\n",
    "#subset_ymin_size = 90\n",
    "#subset_ymax_size = 117\n",
    "##size = subset_max_size - subset_min_size\n",
    "#subset_data = data[subset_ymin_size:subset_ymax_size,subset_xmin_size:subset_xmax_size]\n",
    "#subset_data = np.array(subset_data)\n",
    "#visualizeImg(subset_data)\n",
    "#r,c = subset_data.shape\n",
    "#test = subset_data.reshape(r*c,1)\n",
    "#count_1 = 0\n",
    "#for r in test:\n",
    "#    if r == 1:\n",
    "#        count_1 += 1\n",
    "#count_1"
   ]
  },
  {
   "cell_type": "code",
   "execution_count": 254,
   "metadata": {},
   "outputs": [],
   "source": [
    "TPR = [1/14,5/14,8/14,9/14,10/14,11/14,12/14,12/14,12/14,12/14,13/14,13/14,13/14,13/14,13/14,13/14,13/14]\n",
    "FPR = [1/79987,1.3/79987,2/79987,3/79987,3.9/79987,5.2/79987,6.3/79987,7.1/79987,8.9/79987,9.0/79987,18.1/79987,20/79987,24/79987,29/79987,32/79987,37/79987,43/79987]"
   ]
  },
  {
   "cell_type": "code",
   "execution_count": 255,
   "metadata": {},
   "outputs": [
    {
     "data": {
      "text/plain": [
       "Text(0.5, 1.0, 'ROC curve for Ship Detection Using PCA')"
      ]
     },
     "execution_count": 255,
     "metadata": {},
     "output_type": "execute_result"
    },
    {
     "data": {
      "image/png": "[encoded data removed]",
      "text/plain": [
       "<Figure size 432x288 with 1 Axes>"
      ]
     },
     "metadata": {
      "needs_background": "light"
     },
     "output_type": "display_data"
    }
   ],
   "source": [
    "plt.plot(np.log10(FPR),TPR)\n",
    "plt.xlabel(\"False Positive Rate\")\n",
    "plt.ylabel(\"True Positive Rate\")\n",
    "plt.title(\"ROC curve for Ship Detection Using PCA\")"
   ]
  },
  {
   "cell_type": "code",
   "execution_count": 162,
   "metadata": {},
   "outputs": [],
   "source": [
    "accuracy = (79997) / (79987+24)"
   ]
  },
  {
   "cell_type": "code",
   "execution_count": 163,
   "metadata": {},
   "outputs": [
    {
     "data": {
      "text/plain": [
       "0.9998250240591918"
      ]
     },
     "execution_count": 163,
     "metadata": {},
     "output_type": "execute_result"
    }
   ],
   "source": [
    "accuracy"
   ]
  },
  {
   "cell_type": "code",
   "execution_count": null,
   "metadata": {},
   "outputs": [],
   "source": []
  }
 ],
 "metadata": {
  "kernelspec": {
   "display_name": "Python 3",
   "language": "python",
   "name": "python3"
  },
  "language_info": {
   "codemirror_mode": {
    "name": "ipython",
    "version": 3
   },
   "file_extension": ".py",
   "mimetype": "text/x-python",
   "name": "python",
   "nbconvert_exporter": "python",
   "pygments_lexer": "ipython3",
   "version": "3.6.9"
  }
 },
 "nbformat": 4,
 "nbformat_minor": 4
}
