{
 "cells": [
  {
   "cell_type": "code",
   "execution_count": 5,
   "metadata": {},
   "outputs": [],
   "source": [
    "#Importing modules\n",
    "import import_ipynb\n",
    "import PreProcess_LM as pp\n",
    "import tkinter as tk\n",
    "from tkinter import filedialog\n",
    "from tkinter import messagebox\n",
    "from PIL import Image, ImageTk\n",
    "from tkinter import Canvas"
   ]
  },
  {
   "cell_type": "code",
   "execution_count": 6,
   "metadata": {},
   "outputs": [],
   "source": [
    "#Creating full screen App\n",
    "class FullScreenApp(object):\n",
    "    def __init__(self, master, **kwargs):\n",
    "        self.master = master\n",
    "        pad = 3\n",
    "        self._geom = '200x200+0+0'\n",
    "        master.geometry(\"{0}x{1}+0+0\".format(\n",
    "            master.winfo_screenwidth() - pad, master.winfo_screenheight() - pad))\n",
    "        master.bind('<Escape>', self.toggle_geom)\n",
    "\n",
    "    def toggle_geom(self, event):\n",
    "        geom = self.master.winfo_geometry()\n",
    "        print(geom, self._geom)\n",
    "        self.master.geometry(self._geom)\n",
    "        self._geom = geom"
   ]
  },
  {
   "cell_type": "code",
   "execution_count": 7,
   "metadata": {},
   "outputs": [],
   "source": [
    "# Defining variables for file\n",
    "FILE = \"path\"\n",
    "Band_name = []\n",
    "curr_band = \"band\"\n",
    "\n",
    "\n",
    "#Opening file\n",
    "def open_file(event):\n",
    "    global FILE\n",
    "    filepath = filedialog.askopenfilename()\n",
    "    FILE = str(filepath)\n",
    "    path = filepath.split('/')\n",
    "    output_path = []\n",
    "    for i in path[:-1]:\n",
    "        output_path.append(i)\n",
    "    output_path = '/'.join(output_path)\n",
    "    prod = pp.import_product(filepath)\n",
    "    Band_name = pp.bands(prod)\n",
    "    \n",
    "    def show():\n",
    "        global curr_band\n",
    "        curr_band = clicked.get()\n",
    "        pp.bandVisulization(prod,curr_band,output_path)\n",
    "        if 'L' in path[-1]:#for masked image\n",
    "            im = Image.open(str(output_path)+'/bandVisulization'+str(curr_band)+'.png')\n",
    "        else:#for non masked image\n",
    "            im = Image.open(str(output_path)+'/bandVisulization'+str(curr_band)+'.png')\n",
    "        ph = ImageTk.PhotoImage(im)\n",
    "        l = tk.Label(root, image=ph )\n",
    "        l.image=ph\n",
    "        l.pack(side='left')\n",
    "    #for drop down menu\n",
    "    clicked = tk.StringVar()\n",
    "    clicked.set('Select Band')\n",
    "        \n",
    "    drop = tk.OptionMenu(root, clicked,*Band_name).pack(side='top')\n",
    "    btn = tk.Button(root, text='Get Band', command=show).pack(side='top')\n",
    "\n",
    "#masking\n",
    "def land_mask(event):\n",
    "    tk.messagebox.showinfo(\"Information\", \"Process of Land Masking is started.\\nPlease Wait...\")\n",
    "    filepath = FILE\n",
    "    path = filepath.split('/')\n",
    "    output_path = []\n",
    "    for i in path[:-1]:\n",
    "        output_path.append(i)\n",
    "    output_path = '/'.join(output_path)\n",
    "    prod = pp.import_product(filepath)\n",
    "    pp.LandMasking(prod,curr_band,output_path)\n",
    "    tk.messagebox.showinfo(\"Information\", \"Process of Land Masking is successful.\")\n",
    "\n"
   ]
  },
  {
   "cell_type": "code",
   "execution_count": null,
   "metadata": {},
   "outputs": [],
   "source": [
    "# Main function\n",
    "\n",
    "root = tk.Tk()\n",
    "app = FullScreenApp(root)\n",
    "root.title(\"Land Masking\")\n",
    "#photo = tk.PhotoImage(file='bandVisulizationAmplitude_VH.png')\n",
    "\n",
    "button = tk.Button(root, text=\"Open Image\")\n",
    "button.bind(\"<Button-1>\", open_file)\n",
    "button.pack(side='top')\n",
    "\n",
    "button = tk.Button(root, text=\"Land Mask\")\n",
    "button.bind(\"<Button-1>\", land_mask)\n",
    "button.pack(side='bottom')\n",
    "\n",
    "root.mainloop()"
   ]
  },
  {
   "cell_type": "code",
   "execution_count": null,
   "metadata": {},
   "outputs": [],
   "source": [
    "#pp.bandVisulization(prod,pp.bands(prod)[0])"
   ]
  },
  {
   "cell_type": "code",
   "execution_count": null,
   "metadata": {},
   "outputs": [],
   "source": []
  },
  {
   "cell_type": "code",
   "execution_count": null,
   "metadata": {},
   "outputs": [],
   "source": []
  },
  {
   "cell_type": "code",
   "execution_count": null,
   "metadata": {},
   "outputs": [],
   "source": []
  },
  {
   "cell_type": "code",
   "execution_count": null,
   "metadata": {},
   "outputs": [],
   "source": []
  }
 ],
 "metadata": {
  "kernelspec": {
   "display_name": "Python 3",
   "language": "python",
   "name": "python3"
  },
  "language_info": {
   "codemirror_mode": {
    "name": "ipython",
    "version": 3
   },
   "file_extension": ".py",
   "mimetype": "text/x-python",
   "name": "python",
   "nbconvert_exporter": "python",
   "pygments_lexer": "ipython3",
   "version": "3.6.9"
  }
 },
 "nbformat": 4,
 "nbformat_minor": 4
}
