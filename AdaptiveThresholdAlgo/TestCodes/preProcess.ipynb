{
 "cells": [
  {
   "cell_type": "code",
   "execution_count": 1,
   "metadata": {},
   "outputs": [],
   "source": [
    "import datetime\n",
    "import time\n",
    "from snappy import ProductIO\n",
    "from snappy import HashMap\n",
    "import os, gc\n",
    "from snappy import GPF"
   ]
  },
  {
   "cell_type": "code",
   "execution_count": 2,
   "metadata": {},
   "outputs": [],
   "source": [
    "def do_apply_orbit_file(source):\n",
    "    print('\\tApply orbit file...')\n",
    "    parameters = HashMap()\n",
    "    parameters.put('Apply-Orbit-File', True)\n",
    "    output = GPF.createProduct('Apply-Orbit-File', parameters, source)\n",
    "    return output\n",
    "\n",
    "def do_thermal_noise_removal(source):\n",
    "    print('\\tThermal noise removal...')\n",
    "    parameters = HashMap()\n",
    "    parameters.put('removeThermalNoise', True)\n",
    "    output = GPF.createProduct('ThermalNoiseRemoval', parameters, source)\n",
    "    return output\n",
    "\n",
    "def do_calibration(source, polarization, pols):\n",
    "    print('\\tCalibration...')\n",
    "    parameters = HashMap()\n",
    "    parameters.put('outputSigmaBand', True)\n",
    "    if polarization == 'DH':\n",
    "        parameters.put('sourceBands', 'Intensity_HH,Intensity_HV')\n",
    "    elif polarization == 'DV':\n",
    "        parameters.put('sourceBands', 'Intensity_VH,Intensity_VV')\n",
    "    elif polarization == 'SH' or polarization == 'HH':\n",
    "        parameters.put('sourceBands', 'Intensity_HH')\n",
    "    elif polarization == 'SV':\n",
    "        parameters.put('sourceBands', 'Intensity_VV')\n",
    "    else:\n",
    "        print(\"different polarization!\")\n",
    "    parameters.put('selectedPolarisations', pols)\n",
    "    parameters.put('outputImageScaleInDb', False)\n",
    "    output = GPF.createProduct(\"Calibration\", parameters, source)\n",
    "    return output\n",
    "\n",
    "def do_speckle_filtering(source):\n",
    "    print('\\tSpeckle filtering...')\n",
    "    parameters = HashMap()\n",
    "    parameters.put('filter', 'Lee')\n",
    "    parameters.put('filterSizeX', 5)\n",
    "    parameters.put('filterSizeY', 5)\n",
    "    output = GPF.createProduct('Speckle-Filter', parameters, source)\n",
    "    return output\n",
    "\n",
    "def do_terrain_correction(source, proj, downsample):\n",
    "    print('\\tTerrain correction...')\n",
    "    parameters = HashMap()\n",
    "    parameters.put('demName', 'GETASSE30')\n",
    "    parameters.put('imgResamplingMethod', 'BILINEAR_INTERPOLATION')\n",
    "    parameters.put('mapProjection', proj)       # comment this line if no need to convert to UTM/WGS84, default is WGS84\n",
    "    parameters.put('saveProjectedLocalIncidenceAngle', True)\n",
    "    parameters.put('saveSelectedSourceBand', True)\n",
    "    while downsample == 1:                      # downsample: 1 -- need downsample to 40m, 0 -- no need to downsample\n",
    "        parameters.put('pixelSpacingInMeter', 40.0)\n",
    "        break\n",
    "    output = GPF.createProduct('Terrain-Correction', parameters, source)\n",
    "    return output\n",
    "\n",
    "def do_subset(source, wkt):\n",
    "    print('\\tSubsetting...')\n",
    "    parameters = HashMap()\n",
    "    parameters.put('geoRegion', wkt)\n",
    "    output = GPF.createProduct('Subset', parameters, source)\n",
    "    return output"
   ]
  },
  {
   "cell_type": "code",
   "execution_count": 10,
   "metadata": {},
   "outputs": [],
   "source": [
    "def main():\n",
    "    ## All Sentinel-1 data sub folders are located within a super folder (make sure the data is already unzipped and each sub folder name ends with '.SAFE'):\n",
    "    ## well-known-text (WKT) file for subsetting (can be obtained from SNAP by drawing a polygon)\n",
    "    wkt = 'POLYGON ((-157.79579162597656 71.36872100830078, -155.4447021484375 71.36872100830078, \\\n",
    "    -155.4447021484375 70.60020446777344, -157.79579162597656 70.60020446777344, -157.79579162597656 71.36872100830078))'\n",
    "    ## UTM projection parameters\n",
    "    proj = '''PROJCS[\"UTM Zone 4 / World Geodetic System 1984\",GEOGCS[\"World Geodetic System 1984\",DATUM[\"World Geodetic System 1984\",SPHEROID[\"WGS 84\", 6378137.0, 298.257223563, AUTHORITY[\"EPSG\",\"7030\"]],AUTHORITY[\"EPSG\",\"6326\"]],PRIMEM[\"Greenwich\", 0.0, AUTHORITY[\"EPSG\",\"8901\"]],UNIT[\"degree\", 0.017453292519943295],AXIS[\"Geodetic longitude\", EAST],AXIS[\"Geodetic latitude\", NORTH]],PROJECTION[\"Transverse_Mercator\"],PARAMETER[\"central_meridian\", -159.0],PARAMETER[\"latitude_of_origin\", 0.0],PARAMETER[\"scale_factor\", 0.9996],PARAMETER[\"false_easting\", 500000.0],PARAMETER[\"false_northing\", 0.0],UNIT[\"m\", 1.0],AXIS[\"Easting\", EAST],AXIS[\"Northing\", NORTH]]'''\n",
    "    x = 1\n",
    "    while x == 1:\n",
    "    \n",
    "        sentinel_1 = ProductIO.readProduct(\"S1A_IW_GRDH_1SDV_20200825T010320_20200825T010345_034056_03F420_963A.SAFE/manifest.safe\")\n",
    "        print(sentinel_1)\n",
    "\n",
    "        loopstarttime=str(datetime.datetime.now())\n",
    "        print('Start time:', loopstarttime)\n",
    "        start_time = time.time()\n",
    "\n",
    "        ## Start preprocessing:\n",
    "        applyorbit = do_apply_orbit_file(sentinel_1)\n",
    "        thermaremoved = do_thermal_noise_removal(applyorbit)\n",
    "        down_filtered = do_speckle_filtering(thermaremoved)\n",
    "        del applyorbit\n",
    "        del thermaremoved\n",
    "        ## IW images are downsampled from 10m to 40m (the same resolution as EW images)\n",
    "        x = 0\n"
   ]
  },
  {
   "cell_type": "code",
   "execution_count": 11,
   "metadata": {},
   "outputs": [
    {
     "name": "stdout",
     "output_type": "stream",
     "text": [
      "org.esa.snap.core.datamodel.Product[name=S1A_IW_GRDH_1SDV_20200825T010320_20200825T010345_034056_03F420_963A]\n",
      "Start time: 2020-10-16 13:23:06.251202\n",
      "\tApply orbit file...\n",
      "\tThermal noise removal...\n",
      "\tSpeckle filtering...\n"
     ]
    }
   ],
   "source": [
    "if __name__== \"__main__\":\n",
    "    main()"
   ]
  },
  {
   "cell_type": "code",
   "execution_count": null,
   "metadata": {},
   "outputs": [],
   "source": []
  }
 ],
 "metadata": {
  "kernelspec": {
   "display_name": "Python 3",
   "language": "python",
   "name": "python3"
  },
  "language_info": {
   "codemirror_mode": {
    "name": "ipython",
    "version": 3
   },
   "file_extension": ".py",
   "mimetype": "text/x-python",
   "name": "python",
   "nbconvert_exporter": "python",
   "pygments_lexer": "ipython3",
   "version": "3.6.9"
  }
 },
 "nbformat": 4,
 "nbformat_minor": 4
}
