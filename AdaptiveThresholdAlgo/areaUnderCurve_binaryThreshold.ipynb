{
 "cells": [
  {
   "cell_type": "code",
   "execution_count": 1,
   "metadata": {},
   "outputs": [
    {
     "name": "stdout",
     "output_type": "stream",
     "text": [
      "area = 452.5\n",
      "area = 460.0\n"
     ]
    }
   ],
   "source": [
    "import numpy as np\n",
    "from scipy.integrate import simps\n",
    "from numpy import trapz"
   ]
  },
  {
   "cell_type": "code",
   "execution_count": 55,
   "metadata": {},
   "outputs": [],
   "source": [
    "def binary_search(arr, val, start,end, data): \n",
    "  \n",
    "    mid = int((start+end)/2)\n",
    "    #print(mid)\n",
    "    area = trapz(data[mid:],dx=x_offsets)\n",
    "    #print(area)\n",
    "    #print(abs(area-val))\n",
    "    if abs(area - val) < 50: \n",
    "        return mid \n",
    "    elif area > val: \n",
    "        return binary_search(arr, val, mid, end, data) \n",
    "    elif area < val:\n",
    "        return binary_search(arr, val, start, mid, data) \n",
    "    "
   ]
  },
  {
   "cell_type": "code",
   "execution_count": 57,
   "metadata": {},
   "outputs": [],
   "source": [
    "# The y values.  A numpy array is used here,\n",
    "# but a python list could also be used.\n",
    "data = np.array([5, 20, 4, 18, 19, 18, 7, 4])\n",
    "TrueValue = 200\n",
    "x_offsets = 5\n",
    "arr = np.array(np.arange(8))\n",
    "\n",
    "threshold_index = binary_search(arr,TrueValue,0,len(arr)-1, data)"
   ]
  },
  {
   "cell_type": "code",
   "execution_count": 51,
   "metadata": {},
   "outputs": [
    {
     "data": {
      "text/plain": [
       "182.5"
      ]
     },
     "execution_count": 51,
     "metadata": {},
     "output_type": "execute_result"
    }
   ],
   "source": [
    "area = trapz(data[4:],dx=x_offsets)\n",
    "area"
   ]
  },
  {
   "cell_type": "code",
   "execution_count": 58,
   "metadata": {},
   "outputs": [
    {
     "data": {
      "text/plain": [
       "4"
      ]
     },
     "execution_count": 58,
     "metadata": {},
     "output_type": "execute_result"
    }
   ],
   "source": [
    "threshold_index"
   ]
  },
  {
   "cell_type": "code",
   "execution_count": null,
   "metadata": {},
   "outputs": [],
   "source": []
  }
 ],
 "metadata": {
  "kernelspec": {
   "display_name": "Python 3",
   "language": "python",
   "name": "python3"
  },
  "language_info": {
   "codemirror_mode": {
    "name": "ipython",
    "version": 3
   },
   "file_extension": ".py",
   "mimetype": "text/x-python",
   "name": "python",
   "nbconvert_exporter": "python",
   "pygments_lexer": "ipython3",
   "version": "3.8.5"
  }
 },
 "nbformat": 4,
 "nbformat_minor": 4
}
