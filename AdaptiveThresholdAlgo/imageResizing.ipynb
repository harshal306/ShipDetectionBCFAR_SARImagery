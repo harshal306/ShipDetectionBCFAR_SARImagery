{
 "cells": [
  {
   "cell_type": "code",
   "execution_count": 1,
   "metadata": {},
   "outputs": [],
   "source": [
    "import numpy as np"
   ]
  },
  {
   "cell_type": "code",
   "execution_count": 31,
   "metadata": {},
   "outputs": [],
   "source": [
    "def finddimensionTobeAdjusted(img):\n",
    "    r,c = img.shape\n",
    "    if r>c:\n",
    "        return [r,1]\n",
    "    elif c>r:\n",
    "        return [c,0]\n",
    "    else:\n",
    "        print(\"rows and columns are same no need to adjust.\")\n",
    "        return 0\n",
    "        \n",
    "def adjustImg(img):\n",
    "    r,c = img.shape\n",
    "    size, axis = finddimensionTobeAdjusted(img)\n",
    "    if axis == 0:\n",
    "        while r != c :\n",
    "            z = np.zeros([1,size])\n",
    "            img = np.concatenate((img,z),axis=0)\n",
    "            r = r+1\n",
    "    elif axis == 1:\n",
    "        while r!=c:\n",
    "            z = np.zeros([size,1])\n",
    "            img = np.concatenate((img,z),axis=1)\n",
    "            c = c+1\n",
    "    return img"
   ]
  }
 ],
 "metadata": {
  "kernelspec": {
   "display_name": "Python 3",
   "language": "python",
   "name": "python3"
  },
  "language_info": {
   "codemirror_mode": {
    "name": "ipython",
    "version": 3
   },
   "file_extension": ".py",
   "mimetype": "text/x-python",
   "name": "python",
   "nbconvert_exporter": "python",
   "pygments_lexer": "ipython3",
   "version": "3.6.9"
  }
 },
 "nbformat": 4,
 "nbformat_minor": 4
}
