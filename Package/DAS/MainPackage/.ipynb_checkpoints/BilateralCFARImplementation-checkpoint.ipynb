{
 "cells": [
  {
   "cell_type": "markdown",
   "metadata": {},
   "source": [
    "# Importing Modules"
   ]
  },
  {
   "cell_type": "code",
   "execution_count": 1,
   "metadata": {},
   "outputs": [
    {
     "name": "stdout",
     "output_type": "stream",
     "text": [
      "importing Jupyter notebook from BilateralCFAR_v2.ipynb\n",
      "importing Jupyter notebook from GeoProcess.ipynb\n"
     ]
    }
   ],
   "source": [
    "import import_ipynb\n",
    "import BilateralCFAR_v2 as bcfarv2\n",
    "import GeoProcess as gp\n",
    "import numpy as np\n",
    "\n",
    "DATA_PATH = '/media/prsd/New Volume/Dissertation/Dataset_963A'\n",
    "OUT_PATH = '/media/prsd/New Volume/Dissertation/Results/BilateralCFAR'"
   ]
  },
  {
   "cell_type": "markdown",
   "metadata": {},
   "source": [
    "1. subset_img = (gp.subsetImg(band_data_arr,2000,4500)) 1200x1200\n",
    "2. subset_img = band_data_arr[2518:2875,3882:4282] 375x400"
   ]
  },
  {
   "cell_type": "code",
   "execution_count": 2,
   "metadata": {},
   "outputs": [],
   "source": [
    "#arr = np.array(np.arange(36))\n",
    "#arr = arr.reshape(6,6)\n",
    "backgroundWindow_size = 84\n",
    "guardWindow_size = 82\n",
    "targetWindow_size = 80\n",
    "pfa = 1e-4"
   ]
  },
  {
   "cell_type": "code",
   "execution_count": 3,
   "metadata": {},
   "outputs": [
    {
     "name": "stdout",
     "output_type": "stream",
     "text": [
      "Configuring Kernel... \n",
      "Image Shape: row-357 col-400\n",
      "\n",
      "Target Window size:  80\n",
      "Guard Window Size:  82\n",
      "Background Window Size:  84\n",
      "Probability of false Alarm used:  0.0001\n",
      "Channel used:  VH\n",
      "Generation of Output at location:  /media/prsd/New Volume/Dissertation/Results/BilateralCFAR/BilateralCFAR_OutputforChannel_VH\n",
      "\n",
      "Kernel Ready.\n"
     ]
    }
   ],
   "source": [
    "bilateralcfar = bcfarv2.BilateralCFAR_v2(DATA_PATH+'/Input.tif',\n",
    "                                         targetWindow_size,\n",
    "                                         guardWindow_size,\n",
    "                                         backgroundWindow_size,\n",
    "                                         pfa,\n",
    "                                        channel=\"VH\",\n",
    "                                        output_path=OUT_PATH,\n",
    "                                        visuals=False,\n",
    "                                        masked=True,\n",
    "                                        doSave=True)"
   ]
  },
  {
   "cell_type": "code",
   "execution_count": 4,
   "metadata": {},
   "outputs": [
    {
     "name": "stderr",
     "output_type": "stream",
     "text": [
      "\r",
      "  0%|          | 0/357 [00:00<?, ?it/s]"
     ]
    },
    {
     "name": "stdout",
     "output_type": "stream",
     "text": [
      "Computing Spatial and Intensity Component Image from Target Window\n"
     ]
    },
    {
     "name": "stderr",
     "output_type": "stream",
     "text": [
      "100%|██████████| 357/357 [00:13<00:00, 25.87it/s]\n",
      " 10%|▉         | 35/357 [00:00<00:01, 313.53it/s]"
     ]
    },
    {
     "name": "stdout",
     "output_type": "stream",
     "text": [
      "Process completed, Spatial and Intensity component Sucessfully Generated.\n",
      "\n",
      "Computing Threshold from Background Window...\n"
     ]
    },
    {
     "name": "stderr",
     "output_type": "stream",
     "text": [
      "100%|██████████| 357/357 [00:01<00:00, 295.34it/s]\n",
      "100%|██████████| 357/357 [00:00<00:00, 3655.98it/s]"
     ]
    },
    {
     "name": "stdout",
     "output_type": "stream",
     "text": [
      "Threshold Image Successfully generated.\n",
      "\n",
      "Generating Final Binary Image...\n",
      "Binary Image of Ships is Succesfully Generated.\n",
      "\n",
      "Saving the Images...\n",
      "Image Saved Succesfully.\n",
      "Final Image Saved.\n",
      "Image Saved Succesfully.\n",
      "X_COMBINED Image Saved.\n",
      "Image Saved Succesfully.\n",
      "X_SPATIAL Image Saved.\n",
      "Image Saved Succesfully.\n",
      "Threshold Image Saved.\n",
      "Shapefile Image Generated.\n"
     ]
    },
    {
     "name": "stderr",
     "output_type": "stream",
     "text": [
      "\n"
     ]
    }
   ],
   "source": [
    "result = bilateralcfar.shipDetection()"
   ]
  },
  {
   "cell_type": "code",
   "execution_count": null,
   "metadata": {},
   "outputs": [],
   "source": []
  }
 ],
 "metadata": {
  "kernelspec": {
   "display_name": "Python 3",
   "language": "python",
   "name": "python3"
  },
  "language_info": {
   "codemirror_mode": {
    "name": "ipython",
    "version": 3
   },
   "file_extension": ".py",
   "mimetype": "text/x-python",
   "name": "python",
   "nbconvert_exporter": "python",
   "pygments_lexer": "ipython3",
   "version": "3.8.5"
  }
 },
 "nbformat": 4,
 "nbformat_minor": 4
}
