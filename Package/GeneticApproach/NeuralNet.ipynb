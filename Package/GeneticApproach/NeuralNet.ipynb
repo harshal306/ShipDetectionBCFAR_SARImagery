{
 "cells": [
  {
   "cell_type": "markdown",
   "metadata": {},
   "source": [
    "# Importing modules"
   ]
  },
  {
   "cell_type": "code",
   "execution_count": 1,
   "metadata": {},
   "outputs": [],
   "source": [
    "import numpy as np\n",
    "from tqdm.notebook import tqdm"
   ]
  },
  {
   "cell_type": "code",
   "execution_count": 2,
   "metadata": {},
   "outputs": [],
   "source": [
    "class neuralNet(object):\n",
    "    \n",
    "    \n",
    "    def __init__(self,no_of_features):\n",
    "        \n",
    "        self.no_of_features = no_of_features\n",
    "        \n",
    "        self.synapticWeights = 2* np.random.random((self.no_of_features,1)) -1\n",
    "        self.output = 0.0\n",
    "        \n",
    "    def sigmoid(self,x):\n",
    "        return 1/(1+np.exp(-x))\n",
    "    \n",
    "    def sigmoid_derivative(self,x):\n",
    "        return x*(1-x)\n",
    "\n",
    "    \n",
    "    def train(self,training_inputs,training_outputs,training_iterations):\n",
    "        \n",
    "        for i in tqdm(range(training_iterations)):\n",
    "            \n",
    "            self.output = self.think(training_inputs)\n",
    "            #print(output)\n",
    "            error = training_outputs - self.output\n",
    "            adjustment = np.dot(training_inputs.T, error*self.sigmoid_derivative(self.output))\n",
    "            \n",
    "            self.synapticWeights += adjustment\n",
    "    \n",
    "    def think(self, inputs):\n",
    "        inputs = inputs.astype(float)\n",
    "        output = self.sigmoid(np.dot((inputs),self.synapticWeights))\n",
    "        return output"
   ]
  },
  {
   "cell_type": "code",
   "execution_count": 3,
   "metadata": {},
   "outputs": [
    {
     "data": {
      "text/plain": [
       "3"
      ]
     },
     "execution_count": 3,
     "metadata": {},
     "output_type": "execute_result"
    }
   ],
   "source": [
    "arr_inputs = np.array([[0,0,1],\n",
    "                [1,1,1],\n",
    "                [1,0,1],\n",
    "                [0,1,1]\n",
    "               ])\n",
    "arr_outputs = np.array([[0,1,1,0]]).T\n",
    "len(arr_inputs[0])"
   ]
  },
  {
   "cell_type": "code",
   "execution_count": 4,
   "metadata": {},
   "outputs": [],
   "source": [
    "neural_net = neuralNet(len(arr_inputs[0]))"
   ]
  },
  {
   "cell_type": "code",
   "execution_count": 5,
   "metadata": {},
   "outputs": [
    {
     "data": {
      "text/plain": [
       "array([[ 0.29984505],\n",
       "       [-0.48864945],\n",
       "       [ 0.12691513]])"
      ]
     },
     "execution_count": 5,
     "metadata": {},
     "output_type": "execute_result"
    }
   ],
   "source": [
    "neural_net.synapticWeights"
   ]
  },
  {
   "cell_type": "code",
   "execution_count": 6,
   "metadata": {},
   "outputs": [
    {
     "data": {
      "application/vnd.jupyter.widget-view+json": {
       "model_id": "76266bbafb6a49a9a9b990a2f4840a3b",
       "version_major": 2,
       "version_minor": 0
      },
      "text/plain": [
       "HBox(children=(HTML(value=''), FloatProgress(value=0.0, max=100000.0), HTML(value='')))"
      ]
     },
     "metadata": {},
     "output_type": "display_data"
    },
    {
     "name": "stdout",
     "output_type": "stream",
     "text": [
      "\n"
     ]
    }
   ],
   "source": [
    "neural_net.train(arr_inputs,arr_outputs,100000)"
   ]
  },
  {
   "cell_type": "code",
   "execution_count": 7,
   "metadata": {},
   "outputs": [
    {
     "data": {
      "text/plain": [
       "array([[12.0086991 ],\n",
       "       [-0.20450329],\n",
       "       [-5.80022677]])"
      ]
     },
     "execution_count": 7,
     "metadata": {},
     "output_type": "execute_result"
    }
   ],
   "source": [
    "neural_net.synapticWeights"
   ]
  },
  {
   "cell_type": "code",
   "execution_count": 8,
   "metadata": {},
   "outputs": [
    {
     "data": {
      "text/plain": [
       "array([[0.00301775],\n",
       "       [0.99753713],\n",
       "       [0.99799172],\n",
       "       [0.002461  ]])"
      ]
     },
     "execution_count": 8,
     "metadata": {},
     "output_type": "execute_result"
    }
   ],
   "source": [
    "neural_net.output"
   ]
  },
  {
   "cell_type": "code",
   "execution_count": null,
   "metadata": {},
   "outputs": [],
   "source": []
  }
 ],
 "metadata": {
  "kernelspec": {
   "display_name": "Python 3",
   "language": "python",
   "name": "python3"
  },
  "language_info": {
   "codemirror_mode": {
    "name": "ipython",
    "version": 3
   },
   "file_extension": ".py",
   "mimetype": "text/x-python",
   "name": "python",
   "nbconvert_exporter": "python",
   "pygments_lexer": "ipython3",
   "version": "3.6.9"
  }
 },
 "nbformat": 4,
 "nbformat_minor": 4
}
