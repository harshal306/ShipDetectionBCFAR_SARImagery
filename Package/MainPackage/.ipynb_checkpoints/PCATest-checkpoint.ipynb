{
 "cells": [
  {
   "cell_type": "markdown",
   "metadata": {},
   "source": [
    "# Importing Modules"
   ]
  },
  {
   "cell_type": "code",
   "execution_count": null,
   "metadata": {},
   "outputs": [],
   "source": [
    "import import_ipynb\n",
    "import GeoProcess as gp\n",
    "import numpy as np\n",
    "import matplotlib.pyplot as plt\n",
    "from sklearn.decomposition import PCA\n",
    "\n",
    "\n",
    "DATA_PATH = '/media/prsd/New Volume/Dissertation/Dataset_963A'\n",
    "OUT_PATH = '/media/prsd/New Volume/Dissertation/Results/PrincipleCFAR'"
   ]
  },
  {
   "cell_type": "code",
   "execution_count": null,
   "metadata": {},
   "outputs": [],
   "source": [
    "def find_threshold(data,components):\n",
    "    s_pca = PCA(n_components=components)\n",
    "    for_s_pca = s_pca.fit_transform(data)\n",
    "    #plt.imshow(for_s_pca,cmap='gray')\n",
    "    #Image.fromarray(for_s_pca).show()\n",
    "\n",
    "    max_v = for_s_pca[:,0]\n",
    "    min_v = for_s_pca[:,(components-1)]\n",
    "    threshold = (max_v.std() + min_v.std())/2\n",
    "    #print(threshold)\n",
    "\n",
    "    inv_s_pca = s_pca.inverse_transform(for_s_pca)\n",
    "    #plt.imshow(inv_s_pca,cmap='gray',vmin=0,vmax=255)\n",
    "    #plt.imsave('PrincipalComponentImage.tiff',inv_s_pca,cmap='gray')\n",
    "    return (inv_s_pca,threshold)\n",
    "\n",
    "\n",
    "def getDetectedShip(img,threshold):\n",
    "    rows,cols = img.shape\n",
    "    ship_p = []\n",
    "    nonShip_p = []\n",
    "    temp = img.reshape(rows*cols,1)\n",
    "\n",
    "    for d in range(len(temp)):\n",
    "        if temp[d] < threshold:\n",
    "            #nonShip_p.append(temp[d])\n",
    "            temp[d] = 0\n",
    "        else:\n",
    "            #ship_p.append(temp[d])\n",
    "            temp[d] = 1\n",
    "\n",
    "    fin_img = temp.reshape(rows,cols)\n",
    "    #plt.imshow(fin_img,cmap='gray')\n",
    "    #plt.imsave('Output_fromPCA.tiff',fin_img,cmap='gray')\n",
    "    return (fin_img,ship_p,nonShip_p)"
   ]
  },
  {
   "cell_type": "code",
   "execution_count": null,
   "metadata": {},
   "outputs": [],
   "source": [
    "#Computing rows and columns\n",
    "band_data_arr = gp.readGeoTiff(DATA_PATH+'/BufferedLandMasked_Amplitude_VH.tif')\n",
    "rows,col = band_data_arr.shape\n",
    "print(rows,col)\n",
    "#gp.visualizeImg(band_data_arr)"
   ]
  },
  {
   "cell_type": "code",
   "execution_count": null,
   "metadata": {},
   "outputs": [],
   "source": [
    "computed_threshold = find_threshold(band_data_arr,1)[1]\n",
    "threshold_diff = 1000\n",
    "component_no = 2\n",
    "\n",
    "while (threshold_diff) > 0.01:\n",
    "    pca_img,threshold = find_threshold(band_data_arr,component_no)\n",
    "    threshold_diff = (computed_threshold - threshold)\n",
    "    computed_threshold = threshold\n",
    "    component_no += 1\n",
    "    print(threshold_diff)\n",
    "    \n",
    "print(computed_threshold)"
   ]
  }
 ],
 "metadata": {
  "kernelspec": {
   "display_name": "Python 3",
   "language": "python",
   "name": "python3"
  },
  "language_info": {
   "codemirror_mode": {
    "name": "ipython",
    "version": 3
   },
   "file_extension": ".py",
   "mimetype": "text/x-python",
   "name": "python",
   "nbconvert_exporter": "python",
   "pygments_lexer": "ipython3",
   "version": "3.8.5"
  }
 },
 "nbformat": 4,
 "nbformat_minor": 4
}
