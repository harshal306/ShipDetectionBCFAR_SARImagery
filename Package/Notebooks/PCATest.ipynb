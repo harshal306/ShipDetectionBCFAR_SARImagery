{
 "cells": [
  {
   "cell_type": "markdown",
   "metadata": {},
   "source": [
    "# Importing Modules"
   ]
  },
  {
   "cell_type": "code",
   "execution_count": 2,
   "metadata": {},
   "outputs": [
    {
     "name": "stdout",
     "output_type": "stream",
     "text": [
      "importing Jupyter notebook from GeoProcess.ipynb\n"
     ]
    }
   ],
   "source": [
    "import import_ipynb\n",
    "import GeoProcess as gp\n",
    "import numpy as np\n",
    "import matplotlib.pyplot as plt\n",
    "from sklearn.decomposition import PCA\n",
    "\n",
    "\n",
    "DATA_PATH = '/media/h_mittal/My Data 2/Dissertation/ASDUSI/processing_outputs/snappy/Dataset_963A/BufferedLandMasked_Amplitude_VH.tif'\n",
    "OUT_PATH = '/media/h_mittal/My Data 2/Dissertation/ASDUSI/processing_outputs/snappy/Dataset_963A/PrincipleCFAR_Results'"
   ]
  },
  {
   "cell_type": "code",
   "execution_count": 22,
   "metadata": {},
   "outputs": [],
   "source": [
    "def find_threshold(data,components):\n",
    "    s_pca = PCA(n_components=components)\n",
    "    for_s_pca = s_pca.fit_transform(data)\n",
    "    #plt.imshow(for_s_pca,cmap='gray')\n",
    "    #Image.fromarray(for_s_pca).show()\n",
    "\n",
    "    max_v = for_s_pca[:,0]\n",
    "    min_v = for_s_pca[:,(components-1)]\n",
    "    threshold = (max_v.std() + min_v.std())/2\n",
    "    print(threshold)\n",
    "\n",
    "    inv_s_pca = s_pca.inverse_transform(for_s_pca)\n",
    "    \n",
    "    return (inv_s_pca,threshold)\n",
    "    #return threshold\n",
    "\n",
    "def getDetectedShip(img,threshold):\n",
    "    rows,cols = img.shape\n",
    "    ship_p = []\n",
    "    nonShip_p = []\n",
    "    temp = img.reshape(rows*cols,1)\n",
    "\n",
    "    for d in range(len(temp)):\n",
    "        if temp[d] < threshold:\n",
    "            #nonShip_p.append(temp[d])\n",
    "            temp[d] = 0\n",
    "        else:\n",
    "            #ship_p.append(temp[d])\n",
    "            temp[d] = 1\n",
    "\n",
    "    fin_img = temp.reshape(rows,cols)\n",
    "    #plt.imshow(fin_img,cmap='gray')\n",
    "    #plt.imsave('Output_fromPCA.tiff',fin_img,cmap='gray')\n",
    "    return (fin_img,ship_p,nonShip_p)"
   ]
  },
  {
   "cell_type": "code",
   "execution_count": 3,
   "metadata": {},
   "outputs": [
    {
     "name": "stdout",
     "output_type": "stream",
     "text": [
      "10201 10596\n"
     ]
    }
   ],
   "source": [
    "#Computing rows and columns\n",
    "geoPro = gp.geoProcessing(DATA_PATH,OUT_PATH)\n",
    "band_data_arr = geoPro.readGeoTiff()\n",
    "rows,col = band_data_arr.shape\n",
    "print(rows,col)\n",
    "#gp.visualizeImg(band_data_arr)"
   ]
  },
  {
   "cell_type": "code",
   "execution_count": 17,
   "metadata": {},
   "outputs": [
    {
     "name": "stdout",
     "output_type": "stream",
     "text": [
      "677.9531860351562\n",
      "622.1824951171875\n",
      "Threshold Difference:  55.77069091796875\n",
      "534.73046875\n",
      "Threshold Difference:  87.4520263671875\n",
      "493.6078186035156\n",
      "Threshold Difference:  41.122650146484375\n",
      "476.10723876953125\n",
      "Threshold Difference:  17.500579833984375\n",
      "434.6996154785156\n",
      "Threshold Difference:  41.407623291015625\n",
      "427.57928466796875\n",
      "Threshold Difference:  7.120330810546875\n",
      "423.365234375\n",
      "Threshold Difference:  4.21405029296875\n",
      "413.4849548339844\n",
      "Threshold Difference:  9.880279541015625\n",
      "405.5520324707031\n",
      "Threshold Difference:  7.93292236328125\n",
      "401.08148193359375\n",
      "Threshold Difference:  4.470550537109375\n",
      "397.5558776855469\n",
      "Threshold Difference:  3.525604248046875\n",
      "392.74493408203125\n",
      "Threshold Difference:  4.810943603515625\n",
      "385.8368835449219\n",
      "Threshold Difference:  6.908050537109375\n",
      "384.64129638671875\n",
      "Threshold Difference:  1.195587158203125\n",
      "382.60308837890625\n",
      "Threshold Difference:  2.0382080078125\n",
      "378.88641357421875\n",
      "Threshold Difference:  3.7166748046875\n",
      "378.1564636230469\n",
      "Threshold Difference:  0.729949951171875\n",
      "377.5280456542969\n",
      "Threshold Difference:  0.62841796875\n",
      "376.5332946777344\n",
      "Threshold Difference:  0.9947509765625\n",
      "375.49884033203125\n",
      "Threshold Difference:  1.034454345703125\n",
      "373.1934509277344\n",
      "Threshold Difference:  2.305389404296875\n",
      "372.7860107421875\n",
      "Threshold Difference:  0.407440185546875\n",
      "371.63348388671875\n",
      "Threshold Difference:  1.15252685546875\n",
      "371.53839111328125\n",
      "Threshold Difference:  0.0950927734375\n",
      "370.7668762207031\n",
      "Threshold Difference:  0.771514892578125\n",
      "369.8287353515625\n",
      "Threshold Difference:  0.938140869140625\n",
      "369.3459167480469\n",
      "Threshold Difference:  0.482818603515625\n",
      "368.64947509765625\n",
      "Threshold Difference:  0.696441650390625\n",
      "368.4358825683594\n",
      "Threshold Difference:  0.213592529296875\n",
      "368.30596923828125\n",
      "Threshold Difference:  0.129913330078125\n",
      "367.9390869140625\n",
      "Threshold Difference:  0.36688232421875\n",
      "366.23626708984375\n",
      "Threshold Difference:  1.70281982421875\n",
      "366.0257873535156\n",
      "Threshold Difference:  0.210479736328125\n",
      "365.6086730957031\n",
      "Threshold Difference:  0.4171142578125\n",
      "365.5296325683594\n",
      "Threshold Difference:  0.07904052734375\n",
      "364.95855712890625\n",
      "Threshold Difference:  0.571075439453125\n",
      "364.3858337402344\n",
      "Threshold Difference:  0.572723388671875\n",
      "364.0926208496094\n",
      "Threshold Difference:  0.293212890625\n",
      "363.76019287109375\n",
      "Threshold Difference:  0.332427978515625\n",
      "363.4375\n",
      "Threshold Difference:  0.32269287109375\n",
      "363.1387023925781\n",
      "Threshold Difference:  0.298797607421875\n",
      "362.92034912109375\n",
      "Threshold Difference:  0.218353271484375\n",
      "362.3565368652344\n",
      "Threshold Difference:  0.563812255859375\n",
      "361.9112854003906\n",
      "Threshold Difference:  0.44525146484375\n",
      "361.3801574707031\n",
      "Threshold Difference:  0.5311279296875\n",
      "361.05126953125\n",
      "Threshold Difference:  0.328887939453125\n",
      "360.78240966796875\n",
      "Threshold Difference:  0.26885986328125\n",
      "360.6696472167969\n",
      "Threshold Difference:  0.112762451171875\n",
      "360.1119079589844\n",
      "Threshold Difference:  0.5577392578125\n",
      "359.97003173828125\n",
      "Threshold Difference:  0.141876220703125\n",
      "359.88104248046875\n",
      "Threshold Difference:  0.0889892578125\n",
      "359.6571350097656\n",
      "Threshold Difference:  0.223907470703125\n",
      "359.3631591796875\n",
      "Threshold Difference:  0.293975830078125\n",
      "359.24285888671875\n",
      "Threshold Difference:  0.12030029296875\n",
      "359.0000915527344\n",
      "Threshold Difference:  0.242767333984375\n",
      "358.926025390625\n",
      "Threshold Difference:  0.074066162109375\n",
      "358.6634216308594\n",
      "Threshold Difference:  0.262603759765625\n",
      "358.4607238769531\n",
      "Threshold Difference:  0.20269775390625\n",
      "358.19024658203125\n",
      "Threshold Difference:  0.270477294921875\n",
      "357.8441467285156\n",
      "Threshold Difference:  0.346099853515625\n",
      "357.7986755371094\n",
      "Threshold Difference:  0.04547119140625\n",
      "357.5224304199219\n",
      "Threshold Difference:  0.2762451171875\n",
      "357.48529052734375\n",
      "Threshold Difference:  0.037139892578125\n",
      "357.3024597167969\n",
      "Threshold Difference:  0.182830810546875\n",
      "357.1806945800781\n",
      "Threshold Difference:  0.12176513671875\n",
      "356.9234313964844\n",
      "Threshold Difference:  0.25726318359375\n",
      "356.68939208984375\n",
      "Threshold Difference:  0.234039306640625\n",
      "356.48492431640625\n",
      "Threshold Difference:  0.2044677734375\n",
      "356.5215148925781\n",
      "Threshold Difference:  0.036590576171875\n",
      "356.44354248046875\n",
      "Threshold Difference:  0.077972412109375\n",
      "356.349365234375\n",
      "Threshold Difference:  0.09417724609375\n",
      "356.2619934082031\n",
      "Threshold Difference:  0.087371826171875\n",
      "356.08135986328125\n",
      "Threshold Difference:  0.180633544921875\n",
      "356.0291442871094\n",
      "Threshold Difference:  0.052215576171875\n",
      "355.8515930175781\n",
      "Threshold Difference:  0.17755126953125\n",
      "355.6470947265625\n",
      "Threshold Difference:  0.204498291015625\n",
      "355.4823303222656\n",
      "Threshold Difference:  0.164764404296875\n",
      "355.39117431640625\n",
      "Threshold Difference:  0.091156005859375\n",
      "355.33148193359375\n",
      "Threshold Difference:  0.0596923828125\n",
      "355.1012268066406\n",
      "Threshold Difference:  0.230255126953125\n",
      "355.0994873046875\n",
      "Threshold Difference:  0.001739501953125\n",
      "355.0994873046875\n"
     ]
    }
   ],
   "source": [
    "computed_threshold = find_threshold(band_data_arr,1)\n",
    "threshold_diff = 1000\n",
    "component_no = 2\n",
    "\n",
    "while (threshold_diff) > 0.01:\n",
    "    threshold = find_threshold(band_data_arr,component_no)\n",
    "    threshold_diff = abs(computed_threshold - threshold)\n",
    "    computed_threshold = threshold\n",
    "    component_no += 1\n",
    "    print(\"Threshold Difference: \",threshold_diff)\n",
    "    \n",
    "print(computed_threshold)"
   ]
  },
  {
   "cell_type": "code",
   "execution_count": 18,
   "metadata": {},
   "outputs": [
    {
     "name": "stdout",
     "output_type": "stream",
     "text": [
      "83\n"
     ]
    }
   ],
   "source": [
    "print(component_no)"
   ]
  },
  {
   "cell_type": "code",
   "execution_count": 26,
   "metadata": {},
   "outputs": [
    {
     "name": "stdout",
     "output_type": "stream",
     "text": [
      "338.9764709472656\n"
     ]
    },
    {
     "data": {
      "image/png": "[encoded data removed]",
      "text/plain": [
       "<Figure size 432x288 with 1 Axes>"
      ]
     },
     "metadata": {
      "needs_background": "light"
     },
     "output_type": "display_data"
    }
   ],
   "source": [
    "img,thre = find_threshold(band_data_arr,10201)"
   ]
  },
  {
   "cell_type": "code",
   "execution_count": 28,
   "metadata": {},
   "outputs": [
    {
     "name": "stdout",
     "output_type": "stream",
     "text": [
      "Image Saved Succesfully.\n"
     ]
    }
   ],
   "source": [
    "geoPro.save_img2Geotiff(img,\"/test.tif\")"
   ]
  },
  {
   "cell_type": "code",
   "execution_count": 4,
   "metadata": {},
   "outputs": [],
   "source": [
    "data = band_data_arr.reshape(band_data_arr.shape[0]*band_data_arr.shape[1],1)"
   ]
  },
  {
   "cell_type": "code",
   "execution_count": 1,
   "metadata": {},
   "outputs": [],
   "source": [
    "from KDEpy import FFTKDE"
   ]
  },
  {
   "cell_type": "code",
   "execution_count": 13,
   "metadata": {},
   "outputs": [
    {
     "data": {
      "text/plain": [
       "[<matplotlib.lines.Line2D at 0x7f87c56d3ef0>]"
      ]
     },
     "execution_count": 13,
     "metadata": {},
     "output_type": "execute_result"
    },
    {
     "data": {
      "image/png": "[encoded data removed]",
      "text/plain": [
       "<Figure size 432x288 with 1 Axes>"
      ]
     },
     "metadata": {
      "needs_background": "light"
     },
     "output_type": "display_data"
    }
   ],
   "source": [
    "x,y = FFTKDE(kernel=\"gaussian\",bw=\"silverman\").fit(data).evaluate()\n",
    "plt.plot(x[50:100],y[50:100])"
   ]
  },
  {
   "cell_type": "code",
   "execution_count": null,
   "metadata": {},
   "outputs": [],
   "source": []
  }
 ],
 "metadata": {
  "kernelspec": {
   "display_name": "Python 3",
   "language": "python",
   "name": "python3"
  },
  "language_info": {
   "codemirror_mode": {
    "name": "ipython",
    "version": 3
   },
   "file_extension": ".py",
   "mimetype": "text/x-python",
   "name": "python",
   "nbconvert_exporter": "python",
   "pygments_lexer": "ipython3",
   "version": "3.6.9"
  }
 },
 "nbformat": 4,
 "nbformat_minor": 4
}
