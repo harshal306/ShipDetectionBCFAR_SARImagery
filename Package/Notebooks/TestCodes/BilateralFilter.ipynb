{
 "cells": [
  {
   "cell_type": "code",
   "execution_count": 1,
   "metadata": {},
   "outputs": [],
   "source": [
    "import numpy as np\n",
    "import matplotlib.pyplot as plt\n",
    "from tqdm.notebook import tqdm"
   ]
  },
  {
   "cell_type": "code",
   "execution_count": 36,
   "metadata": {},
   "outputs": [],
   "source": [
    "class BilateralFilter(object):\n",
    "    \n",
    "    \n",
    "    def __init__(self,img,kernel,sigma_s,sigma_i):\n",
    "        self.img = img\n",
    "        self.kernel = kernel\n",
    "        self.sigma_s = sigma_s\n",
    "        self.sigma_i = sigma_i\n",
    "        print(\"Bilateral Kernel Ready.\")\n",
    "\n",
    "    def distance(self,x, y, i, j):\n",
    "        return np.sqrt((x-i)**2 + (y-j)**2)\n",
    "\n",
    "\n",
    "    def gaussian(self,x, sigma):\n",
    "        return (1.0 / (2 * np.pi * (sigma ** 2))) * np.exp(- (x ** 2) / (2 * sigma ** 2))\n",
    "\n",
    "\n",
    "    def isPixelexists(self,a,b):\n",
    "            r,c = self.img.shape\n",
    "            #print(r,c)\n",
    "            if (a>=0 and a<r) and (b>=0 and b<c) :\n",
    "                return True\n",
    "            else:\n",
    "                return False\n",
    "\n",
    "\n",
    "    def apply_bilateral_filter(self,filtered_image, x, y):\n",
    "        hl = int(self.kernel/2)\n",
    "        i_filtered = 0\n",
    "        Wp = 0\n",
    "        for i in (range(self.kernel)):\n",
    "            for j in range(self.kernel):\n",
    "                neighbour_x = x - (hl - i)\n",
    "                neighbour_y = y - (hl - j)\n",
    "                #print(neighbour_x,neighbour_y)\n",
    "                if self.isPixelexists(neighbour_x,neighbour_y):\n",
    "                    #print(len(source))\n",
    "                    #print(len(source[0]))\n",
    "\n",
    "                    gi = self.gaussian(self.img[neighbour_x][neighbour_y] - self.img[x][y], self.sigma_i)\n",
    "                    gs = self.gaussian(self.distance(neighbour_x, neighbour_y, x, y), self.sigma_s)\n",
    "                    #print(distance(neighbour_x,neighbour_y,x,y))\n",
    "                    w = gi * gs\n",
    "                    i_filtered += self.img[neighbour_x][neighbour_y] * w\n",
    "                    Wp += w\n",
    "        i_filtered = i_filtered / Wp\n",
    "        filtered_image[x][y] = (i_filtered)\n",
    "\n",
    "\n",
    "    def bilateral_filter(self):\n",
    "        filtered_image = np.zeros(self.img.shape)\n",
    "        d = int(self.kernel/2)\n",
    "        for i in tqdm(range(d,len(self.img)-d)):\n",
    "            for j in range(d,len(self.img[0]-d)):\n",
    "                self.apply_bilateral_filter(filtered_image, i, j)\n",
    "        return filtered_image"
   ]
  }
 ],
 "metadata": {
  "kernelspec": {
   "display_name": "Python 3",
   "language": "python",
   "name": "python3"
  },
  "language_info": {
   "codemirror_mode": {
    "name": "ipython",
    "version": 3
   },
   "file_extension": ".py",
   "mimetype": "text/x-python",
   "name": "python",
   "nbconvert_exporter": "python",
   "pygments_lexer": "ipython3",
   "version": "3.6.9"
  }
 },
 "nbformat": 4,
 "nbformat_minor": 4
}
