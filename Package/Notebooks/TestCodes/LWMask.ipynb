{
 "cells": [
  {
   "cell_type": "code",
   "execution_count": 1,
   "metadata": {},
   "outputs": [],
   "source": [
    "#Importing Modules\n",
    "import snappy\n",
    "from snappy import ProductIO\n",
    "import matplotlib.pyplot as plt\n",
    "import numpy as np\n",
    "from snappy import HashMap\n",
    "from snappy import GPF\n",
    "from snappy import jpy"
   ]
  },
  {
   "cell_type": "code",
   "execution_count": 2,
   "metadata": {},
   "outputs": [],
   "source": [
    "#Importing Product (Geometric Corrected)\n",
    "def import_product(product_name):\n",
    "    p = ProductIO.readProduct(product_name)\n",
    "    return p"
   ]
  },
  {
   "cell_type": "code",
   "execution_count": 3,
   "metadata": {},
   "outputs": [],
   "source": [
    "def bands(product):\n",
    "    bands = list(product.getBandNames())\n",
    "    return bands\n",
    "\n",
    "def LandMasking(product,band,output_path):\n",
    "    \n",
    "    GPF.getDefaultInstance().getOperatorSpiRegistry().loadOperatorSpis()\n",
    "    HashMap = jpy.get_type('java.util.HashMap')\n",
    "    parameters = HashMap()\n",
    "    parameters.put('vectorFile','gshhg-shp-2.3.7/GSHHS_shp/f/GSHHS_f_L1.shp')\n",
    "    parameters.put('separateShapes', False)\n",
    "    \n",
    "    result = GPF.createProduct('Import-Vector', parameters, product)\n",
    "    #ProductIO.writeProduct(result, \"TEST_POLYGON\", 'BEAM-DIMAP')\n",
    "    \n",
    "    parameters = HashMap()\n",
    "    BandDescriptor = jpy.get_type('org.esa.snap.core.gpf.common.BandMathsOp$BandDescriptor')\n",
    "    targetBand_1 = BandDescriptor()\n",
    "    targetBand_1.name = 'Masked_'+str(band)\n",
    "    targetBand_1.type = 'float32'\n",
    "    targetBand_1.expression = \"if GSHHS_f_L1 then 0 else \"+str(band)\n",
    "    #targetBand_1.expression = 'if GSHHS_f_L1 then 0 else 1'\n",
    "\n",
    "    targetBands = jpy.array('org.esa.snap.core.gpf.common.BandMathsOp$BandDescriptor', 1)\n",
    "    targetBands[0] = targetBand_1\n",
    "\n",
    "    parameters.put('targetBands', targetBands)\n",
    "    output = GPF.createProduct('BandMaths', parameters, result)\n",
    "    ProductIO.writeProduct(output, str(output_path)+\"/LandMasked_\"+str(band), 'GeoTIFF')\n",
    "    return output\n",
    "\n",
    "\n",
    "def bandVisulization(product,band,output_path):\n",
    "    b_data = Band_data(product,band)\n",
    "    \n",
    "    # Plot the band  \n",
    "    plt.figure(figsize=(18,10))\n",
    "    plt.imshow(b_data, cmap='gray')\n",
    "    #plt.savefig(str(output_path)+'/bandVisulization'+str(band)+'.png')\n",
    "    plt.show()\n",
    "\n",
    "def Band_data(product,band):\n",
    "    band = product.getBand(str(band))\n",
    "    w = product.getSceneRasterWidth() # Get Band Width\n",
    "    h = product.getSceneRasterHeight() # Get Band Height\n",
    "    \n",
    "    # Create an empty array\n",
    "    band_data = np.zeros(w * h, np.float32)\n",
    "    \n",
    "    # Populate array with pixel value\n",
    "    band.readPixels(0, 0, w, h, band_data)\n",
    "    \n",
    "    # Reshape\n",
    "    band_data.shape = h, w\n",
    "    \n",
    "    return band_data"
   ]
  },
  {
   "cell_type": "code",
   "execution_count": 4,
   "metadata": {},
   "outputs": [],
   "source": [
    "# product = import_product('Dataset_963A/terrain_corr_subset_of_S1A_IW_GRDH_1SDV_20200825T010320_20200825T010345_034056_03F420_963A_TC.tif')\n",
    "# band_d = bands(product)\n",
    "# print(band_d)\n",
    "# bandVisulization(product,band_d[0],'/media/h_mittal/My Data 2/Dissertation/ASDUSI/Conferences/ISRSNS2020/Data/')\n",
    "#d = LandMasking(product,band_d[0],'/media/h_mittal/My Data 2/Dissertation/ASDUSI/Conferences/ISRSNS2020/Data/')"
   ]
  }
 ],
 "metadata": {
  "kernelspec": {
   "display_name": "Python 3",
   "language": "python",
   "name": "python3"
  },
  "language_info": {
   "codemirror_mode": {
    "name": "ipython",
    "version": 3
   },
   "file_extension": ".py",
   "mimetype": "text/x-python",
   "name": "python",
   "nbconvert_exporter": "python",
   "pygments_lexer": "ipython3",
   "version": "3.8.5"
  }
 },
 "nbformat": 4,
 "nbformat_minor": 4
}
