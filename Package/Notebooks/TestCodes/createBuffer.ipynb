{
 "cells": [
  {
   "cell_type": "code",
   "execution_count": 1,
   "metadata": {},
   "outputs": [],
   "source": [
    "import ogr, os"
   ]
  },
  {
   "cell_type": "code",
   "execution_count": 6,
   "metadata": {},
   "outputs": [],
   "source": [
    "def createBuffer(inputfn, outputBufferfn, bufferDist):\n",
    "    inputds = ogr.Open(inputfn)\n",
    "    inputlyr = inputds.GetLayer()\n",
    "\n",
    "    shpdriver = ogr.GetDriverByName('ESRI Shapefile')\n",
    "    if os.path.exists(outputBufferfn):\n",
    "        shpdriver.DeleteDataSource(outputBufferfn)\n",
    "    outputBufferds = shpdriver.CreateDataSource(outputBufferfn)\n",
    "    bufferlyr = outputBufferds.CreateLayer(outputBufferfn, geom_type=ogr.wkbPolygon)\n",
    "    featureDefn = bufferlyr.GetLayerDefn()\n",
    "\n",
    "    for feature in inputlyr:\n",
    "        ingeom = feature.GetGeometryRef()\n",
    "        geomBuffer = ingeom.Buffer(bufferDist)\n",
    "\n",
    "        outFeature = ogr.Feature(featureDefn)\n",
    "        outFeature.SetGeometry(geomBuffer)\n",
    "        bufferlyr.CreateFeature(outFeature)\n",
    "\n",
    "def main(inputfn, outputBufferfn, bufferDist):\n",
    "        createBuffer(inputfn, outputBufferfn, bufferDist)\n",
    "\n",
    "if __name__ == \"__main__\":\n",
    "    inputfn = '/media/prsd/New Volume/Dissertation/Dataset_963A/buffershapeFile/subset_gshhgvectorlayer.shp'\n",
    "    outputBufferfn = '/media/prsd/New Volume/Dissertation/Dataset_963A/buffershapeFile/Output/buffered_subset_gshhgvectorlayer.shp'\n",
    "    bufferDist = 0.01\n",
    "\n",
    "    main(inputfn, outputBufferfn, bufferDist)"
   ]
  },
  {
   "cell_type": "code",
   "execution_count": null,
   "metadata": {},
   "outputs": [],
   "source": []
  }
 ],
 "metadata": {
  "kernelspec": {
   "display_name": "Python 3",
   "language": "python",
   "name": "python3"
  },
  "language_info": {
   "codemirror_mode": {
    "name": "ipython",
    "version": 3
   },
   "file_extension": ".py",
   "mimetype": "text/x-python",
   "name": "python",
   "nbconvert_exporter": "python",
   "pygments_lexer": "ipython3",
   "version": "3.8.5"
  }
 },
 "nbformat": 4,
 "nbformat_minor": 4
}
